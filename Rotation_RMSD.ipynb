{
  "nbformat": 4,
  "nbformat_minor": 0,
  "metadata": {
    "colab": {
      "name": "Assignment2.ipynb",
      "provenance": [],
      "collapsed_sections": [],
      "authorship_tag": "ABX9TyMMQJLLdsRCcEoGNTWTLDHz",
      "include_colab_link": true
    },
    "kernelspec": {
      "name": "python3",
      "display_name": "Python 3"
    },
    "language_info": {
      "name": "python"
    }
  },
  "cells": [
    {
      "cell_type": "markdown",
      "metadata": {
        "id": "view-in-github",
        "colab_type": "text"
      },
      "source": [
        "<a href=\"https://colab.research.google.com/github/sivianil/Structural-Bioinformatics/blob/main/Rotation_RMSD.ipynb\" target=\"_parent\"><img src=\"https://colab.research.google.com/assets/colab-badge.svg\" alt=\"Open In Colab\"/></a>"
      ]
    },
    {
      "cell_type": "code",
      "source": [
        "import numpy as np\n",
        "import pandas as pd\n",
        "import math\n",
        "from numpy.linalg import linalg"
      ],
      "metadata": {
        "id": "NkFiz8Zp3zUk"
      },
      "execution_count": null,
      "outputs": []
    },
    {
      "cell_type": "code",
      "source": [
        "mod1_atoms = []\n",
        "mod1_coord = []\n",
        "#open xyz file for reading using open() function\n",
        "xyz = open('1zta_ca_1.xyz')\n",
        "n_atoms = int(xyz.readline())\n",
        "#reads the file line by line\n",
        "title = xyz.readline()\n",
        "for line in xyz:\n",
        "  atom,x,y,z = line.split()\n",
        "  mod1_atoms.append(atom)\n",
        "  mod1_coord.append([float(x), float(y), float(z)])\n",
        "xyz.close()"
      ],
      "metadata": {
        "id": "Lzq_hqWXogqH"
      },
      "execution_count": null,
      "outputs": []
    },
    {
      "cell_type": "code",
      "source": [
        "mod2_atoms = []\n",
        "mod2_coord = []\n",
        "xyz = open('1zta_ca_2.xyz')\n",
        "n_atoms = int(xyz.readline())\n",
        "title = xyz.readline()\n",
        "for line in xyz:\n",
        "  atom,x,y,z = line.split()\n",
        "  mod2_atoms.append(atom)\n",
        "  mod2_coord.append([float(x), float(y), float(z)])\n",
        "xyz.close()"
      ],
      "metadata": {
        "id": "DP-Wmho4II3E"
      },
      "execution_count": null,
      "outputs": []
    },
    {
      "cell_type": "code",
      "source": [
        "dic1 = {}\n",
        "for i in range(len(mod1_coord)):\n",
        "  val = mod1_coord[i]\n",
        "  dic1[mod1_atoms[i]] = val"
      ],
      "metadata": {
        "id": "znhwUHd55wjN"
      },
      "execution_count": null,
      "outputs": []
    },
    {
      "cell_type": "code",
      "source": [
        "dic2 = {}\n",
        "for i in range(len(mod2_coord)):\n",
        "  val = mod2_coord[i]\n",
        "  dic2[mod2_atoms[i]] = val"
      ],
      "metadata": {
        "id": "Ee-S9iNpU8qN"
      },
      "execution_count": null,
      "outputs": []
    },
    {
      "cell_type": "code",
      "source": [
        "def centre_of_mass(dic):\n",
        "  #centre of mass coordinates of xyz file\n",
        "\n",
        "  cm_x, cm_y, cm_z = [], [], []\n",
        "  for key, value in dic.items():\n",
        "    cm_x.append(value[0])\n",
        "    cm_y.append(value[1])\n",
        "    cm_z.append(value[2])\n",
        "  \n",
        "  cm_x = sum(cm_x)/len(mod1_coord)\n",
        "  cm_y = sum(cm_y)/len(mod1_coord)\n",
        "  cm_z = sum(cm_z)/len(mod1_coord)\n",
        "\n",
        "  return cm_x,cm_y,cm_z"
      ],
      "metadata": {
        "id": "3ggpTAhk9JEz"
      },
      "execution_count": null,
      "outputs": []
    },
    {
      "cell_type": "code",
      "source": [
        "#centroid coordinates for model 1\n",
        "cm_model1 = centre_of_mass(dic1)\n",
        "cm_model1"
      ],
      "metadata": {
        "colab": {
          "base_uri": "https://localhost:8080/"
        },
        "id": "-wQIsVAASTvg",
        "outputId": "d6dd7d72-7a6c-4e57-9e22-26f18b65d39d"
      },
      "execution_count": null,
      "outputs": [
        {
          "output_type": "execute_result",
          "data": {
            "text/plain": [
              "(0.17048571428571405, -0.5047142857142854, -0.40911428571428576)"
            ]
          },
          "metadata": {},
          "execution_count": 7
        }
      ]
    },
    {
      "cell_type": "code",
      "source": [
        "#centroid coordinates for model 2\n",
        "cm_model2 = centre_of_mass(dic2)"
      ],
      "metadata": {
        "id": "HMS5n3qRVHBn"
      },
      "execution_count": null,
      "outputs": []
    },
    {
      "cell_type": "code",
      "source": [
        "cm_model2"
      ],
      "metadata": {
        "colab": {
          "base_uri": "https://localhost:8080/"
        },
        "id": "RHJvOvwQVNzG",
        "outputId": "4664db7a-88ec-4a4d-bec8-51d50e5a22a0"
      },
      "execution_count": null,
      "outputs": [
        {
          "output_type": "execute_result",
          "data": {
            "text/plain": [
              "(9.16122857142857, -7.341657142857142, -10.58485714285714)"
            ]
          },
          "metadata": {},
          "execution_count": 9
        }
      ]
    },
    {
      "cell_type": "markdown",
      "source": [
        "Try to bring the RMSD as lows as possible. Best alignment"
      ],
      "metadata": {
        "id": "ZBDSnhWxmH2s"
      }
    },
    {
      "cell_type": "code",
      "source": [
        "def rad_gyration(res, dic):\n",
        "  #determine the perpendicular distances of all atoms from the axis of rotation\n",
        "  tot = 0\n",
        "  res = np.array(res)\n",
        "  for key, value in dic.items():\n",
        "    rk = np.array(value)\n",
        "    tot += np.linalg.norm(rk - res)**2\n",
        "  \n",
        "  tot /= len(mod1_coord)\n",
        "  rad = np.sqrt(tot)\n",
        "\n",
        "  return rad\n"
      ],
      "metadata": {
        "id": "Lf1-E4O8XvWD"
      },
      "execution_count": null,
      "outputs": []
    },
    {
      "cell_type": "code",
      "source": [
        "#radius of gyration for model1\n",
        "rad_gyration(cm_model1, dic1)"
      ],
      "metadata": {
        "colab": {
          "base_uri": "https://localhost:8080/"
        },
        "id": "Rl4RllrXaFDA",
        "outputId": "8813d00b-0b9c-4b5f-979c-7218e6576b30"
      },
      "execution_count": null,
      "outputs": [
        {
          "output_type": "execute_result",
          "data": {
            "text/plain": [
              "14.783192944719906"
            ]
          },
          "metadata": {},
          "execution_count": 11
        }
      ]
    },
    {
      "cell_type": "code",
      "source": [
        "#radius of gyration for model2\n",
        "rad_gyration(cm_model2, dic2)"
      ],
      "metadata": {
        "colab": {
          "base_uri": "https://localhost:8080/"
        },
        "id": "Y1lnO2iOHNsw",
        "outputId": "5084e1a7-0a38-4194-a30a-0f903938ac09"
      },
      "execution_count": null,
      "outputs": [
        {
          "output_type": "execute_result",
          "data": {
            "text/plain": [
              "15.052060455387931"
            ]
          },
          "metadata": {},
          "execution_count": 12
        }
      ]
    },
    {
      "cell_type": "code",
      "source": [
        "#center both models to zero\n",
        "mod1_coord = mod1_coord - np.array(cm_model1)\n",
        "mod2_coord = mod2_coord - np.array(cm_model2)"
      ],
      "metadata": {
        "id": "T0wMuR8U4Qy8"
      },
      "execution_count": null,
      "outputs": []
    },
    {
      "cell_type": "code",
      "source": [
        "m1_cord = pd.DataFrame(mod1_coord, index = mod1_atoms, columns=['x', 'y', 'z'])\n",
        "m2_cord = pd.DataFrame(mod2_coord, index = mod2_atoms, columns=['x', 'y', 'z'])"
      ],
      "metadata": {
        "id": "_YDnuPa22_4a"
      },
      "execution_count": null,
      "outputs": []
    },
    {
      "cell_type": "code",
      "source": [
        "m1_cord.head()"
      ],
      "metadata": {
        "colab": {
          "base_uri": "https://localhost:8080/",
          "height": 206
        },
        "id": "uNZPlcHw9KeR",
        "outputId": "0b7643b4-0a4a-47c9-db09-a89b187f2477"
      },
      "execution_count": null,
      "outputs": [
        {
          "output_type": "execute_result",
          "data": {
            "text/plain": [
              "            x          y         z\n",
              "C0  10.814514  20.947714  0.266114\n",
              "C1   8.220514  18.307714 -0.821886\n",
              "C2   6.819514  16.458714  2.241114\n",
              "C3   7.379514  18.985714  5.053114\n",
              "C4   4.180514  18.267714  7.137114"
            ],
            "text/html": [
              "\n",
              "  <div id=\"df-8a74c999-d216-42c3-b98c-340d38b2033f\">\n",
              "    <div class=\"colab-df-container\">\n",
              "      <div>\n",
              "<style scoped>\n",
              "    .dataframe tbody tr th:only-of-type {\n",
              "        vertical-align: middle;\n",
              "    }\n",
              "\n",
              "    .dataframe tbody tr th {\n",
              "        vertical-align: top;\n",
              "    }\n",
              "\n",
              "    .dataframe thead th {\n",
              "        text-align: right;\n",
              "    }\n",
              "</style>\n",
              "<table border=\"1\" class=\"dataframe\">\n",
              "  <thead>\n",
              "    <tr style=\"text-align: right;\">\n",
              "      <th></th>\n",
              "      <th>x</th>\n",
              "      <th>y</th>\n",
              "      <th>z</th>\n",
              "    </tr>\n",
              "  </thead>\n",
              "  <tbody>\n",
              "    <tr>\n",
              "      <th>C0</th>\n",
              "      <td>10.814514</td>\n",
              "      <td>20.947714</td>\n",
              "      <td>0.266114</td>\n",
              "    </tr>\n",
              "    <tr>\n",
              "      <th>C1</th>\n",
              "      <td>8.220514</td>\n",
              "      <td>18.307714</td>\n",
              "      <td>-0.821886</td>\n",
              "    </tr>\n",
              "    <tr>\n",
              "      <th>C2</th>\n",
              "      <td>6.819514</td>\n",
              "      <td>16.458714</td>\n",
              "      <td>2.241114</td>\n",
              "    </tr>\n",
              "    <tr>\n",
              "      <th>C3</th>\n",
              "      <td>7.379514</td>\n",
              "      <td>18.985714</td>\n",
              "      <td>5.053114</td>\n",
              "    </tr>\n",
              "    <tr>\n",
              "      <th>C4</th>\n",
              "      <td>4.180514</td>\n",
              "      <td>18.267714</td>\n",
              "      <td>7.137114</td>\n",
              "    </tr>\n",
              "  </tbody>\n",
              "</table>\n",
              "</div>\n",
              "      <button class=\"colab-df-convert\" onclick=\"convertToInteractive('df-8a74c999-d216-42c3-b98c-340d38b2033f')\"\n",
              "              title=\"Convert this dataframe to an interactive table.\"\n",
              "              style=\"display:none;\">\n",
              "        \n",
              "  <svg xmlns=\"http://www.w3.org/2000/svg\" height=\"24px\"viewBox=\"0 0 24 24\"\n",
              "       width=\"24px\">\n",
              "    <path d=\"M0 0h24v24H0V0z\" fill=\"none\"/>\n",
              "    <path d=\"M18.56 5.44l.94 2.06.94-2.06 2.06-.94-2.06-.94-.94-2.06-.94 2.06-2.06.94zm-11 1L8.5 8.5l.94-2.06 2.06-.94-2.06-.94L8.5 2.5l-.94 2.06-2.06.94zm10 10l.94 2.06.94-2.06 2.06-.94-2.06-.94-.94-2.06-.94 2.06-2.06.94z\"/><path d=\"M17.41 7.96l-1.37-1.37c-.4-.4-.92-.59-1.43-.59-.52 0-1.04.2-1.43.59L10.3 9.45l-7.72 7.72c-.78.78-.78 2.05 0 2.83L4 21.41c.39.39.9.59 1.41.59.51 0 1.02-.2 1.41-.59l7.78-7.78 2.81-2.81c.8-.78.8-2.07 0-2.86zM5.41 20L4 18.59l7.72-7.72 1.47 1.35L5.41 20z\"/>\n",
              "  </svg>\n",
              "      </button>\n",
              "      \n",
              "  <style>\n",
              "    .colab-df-container {\n",
              "      display:flex;\n",
              "      flex-wrap:wrap;\n",
              "      gap: 12px;\n",
              "    }\n",
              "\n",
              "    .colab-df-convert {\n",
              "      background-color: #E8F0FE;\n",
              "      border: none;\n",
              "      border-radius: 50%;\n",
              "      cursor: pointer;\n",
              "      display: none;\n",
              "      fill: #1967D2;\n",
              "      height: 32px;\n",
              "      padding: 0 0 0 0;\n",
              "      width: 32px;\n",
              "    }\n",
              "\n",
              "    .colab-df-convert:hover {\n",
              "      background-color: #E2EBFA;\n",
              "      box-shadow: 0px 1px 2px rgba(60, 64, 67, 0.3), 0px 1px 3px 1px rgba(60, 64, 67, 0.15);\n",
              "      fill: #174EA6;\n",
              "    }\n",
              "\n",
              "    [theme=dark] .colab-df-convert {\n",
              "      background-color: #3B4455;\n",
              "      fill: #D2E3FC;\n",
              "    }\n",
              "\n",
              "    [theme=dark] .colab-df-convert:hover {\n",
              "      background-color: #434B5C;\n",
              "      box-shadow: 0px 1px 3px 1px rgba(0, 0, 0, 0.15);\n",
              "      filter: drop-shadow(0px 1px 2px rgba(0, 0, 0, 0.3));\n",
              "      fill: #FFFFFF;\n",
              "    }\n",
              "  </style>\n",
              "\n",
              "      <script>\n",
              "        const buttonEl =\n",
              "          document.querySelector('#df-8a74c999-d216-42c3-b98c-340d38b2033f button.colab-df-convert');\n",
              "        buttonEl.style.display =\n",
              "          google.colab.kernel.accessAllowed ? 'block' : 'none';\n",
              "\n",
              "        async function convertToInteractive(key) {\n",
              "          const element = document.querySelector('#df-8a74c999-d216-42c3-b98c-340d38b2033f');\n",
              "          const dataTable =\n",
              "            await google.colab.kernel.invokeFunction('convertToInteractive',\n",
              "                                                     [key], {});\n",
              "          if (!dataTable) return;\n",
              "\n",
              "          const docLinkHtml = 'Like what you see? Visit the ' +\n",
              "            '<a target=\"_blank\" href=https://colab.research.google.com/notebooks/data_table.ipynb>data table notebook</a>'\n",
              "            + ' to learn more about interactive tables.';\n",
              "          element.innerHTML = '';\n",
              "          dataTable['output_type'] = 'display_data';\n",
              "          await google.colab.output.renderOutput(dataTable, element);\n",
              "          const docLink = document.createElement('div');\n",
              "          docLink.innerHTML = docLinkHtml;\n",
              "          element.appendChild(docLink);\n",
              "        }\n",
              "      </script>\n",
              "    </div>\n",
              "  </div>\n",
              "  "
            ]
          },
          "metadata": {},
          "execution_count": 15
        }
      ]
    },
    {
      "cell_type": "code",
      "source": [
        "m2_cord.head()"
      ],
      "metadata": {
        "colab": {
          "base_uri": "https://localhost:8080/",
          "height": 206
        },
        "id": "Hhxq6HlzbOrO",
        "outputId": "8f5349ed-e992-4b76-ce0e-fd1021b7e8e1"
      },
      "execution_count": null,
      "outputs": [
        {
          "output_type": "execute_result",
          "data": {
            "text/plain": [
              "            x         y         z\n",
              "C0  24.376771  6.641657  1.339857\n",
              "C1  23.747771  3.104657 -0.044143\n",
              "C2  21.317771  2.573657 -3.000143\n",
              "C3  18.458771  0.241657 -4.088143\n",
              "C4  19.850771 -2.009343 -1.293143"
            ],
            "text/html": [
              "\n",
              "  <div id=\"df-d7eab7d6-1e5e-497d-b3ed-8186c261e100\">\n",
              "    <div class=\"colab-df-container\">\n",
              "      <div>\n",
              "<style scoped>\n",
              "    .dataframe tbody tr th:only-of-type {\n",
              "        vertical-align: middle;\n",
              "    }\n",
              "\n",
              "    .dataframe tbody tr th {\n",
              "        vertical-align: top;\n",
              "    }\n",
              "\n",
              "    .dataframe thead th {\n",
              "        text-align: right;\n",
              "    }\n",
              "</style>\n",
              "<table border=\"1\" class=\"dataframe\">\n",
              "  <thead>\n",
              "    <tr style=\"text-align: right;\">\n",
              "      <th></th>\n",
              "      <th>x</th>\n",
              "      <th>y</th>\n",
              "      <th>z</th>\n",
              "    </tr>\n",
              "  </thead>\n",
              "  <tbody>\n",
              "    <tr>\n",
              "      <th>C0</th>\n",
              "      <td>24.376771</td>\n",
              "      <td>6.641657</td>\n",
              "      <td>1.339857</td>\n",
              "    </tr>\n",
              "    <tr>\n",
              "      <th>C1</th>\n",
              "      <td>23.747771</td>\n",
              "      <td>3.104657</td>\n",
              "      <td>-0.044143</td>\n",
              "    </tr>\n",
              "    <tr>\n",
              "      <th>C2</th>\n",
              "      <td>21.317771</td>\n",
              "      <td>2.573657</td>\n",
              "      <td>-3.000143</td>\n",
              "    </tr>\n",
              "    <tr>\n",
              "      <th>C3</th>\n",
              "      <td>18.458771</td>\n",
              "      <td>0.241657</td>\n",
              "      <td>-4.088143</td>\n",
              "    </tr>\n",
              "    <tr>\n",
              "      <th>C4</th>\n",
              "      <td>19.850771</td>\n",
              "      <td>-2.009343</td>\n",
              "      <td>-1.293143</td>\n",
              "    </tr>\n",
              "  </tbody>\n",
              "</table>\n",
              "</div>\n",
              "      <button class=\"colab-df-convert\" onclick=\"convertToInteractive('df-d7eab7d6-1e5e-497d-b3ed-8186c261e100')\"\n",
              "              title=\"Convert this dataframe to an interactive table.\"\n",
              "              style=\"display:none;\">\n",
              "        \n",
              "  <svg xmlns=\"http://www.w3.org/2000/svg\" height=\"24px\"viewBox=\"0 0 24 24\"\n",
              "       width=\"24px\">\n",
              "    <path d=\"M0 0h24v24H0V0z\" fill=\"none\"/>\n",
              "    <path d=\"M18.56 5.44l.94 2.06.94-2.06 2.06-.94-2.06-.94-.94-2.06-.94 2.06-2.06.94zm-11 1L8.5 8.5l.94-2.06 2.06-.94-2.06-.94L8.5 2.5l-.94 2.06-2.06.94zm10 10l.94 2.06.94-2.06 2.06-.94-2.06-.94-.94-2.06-.94 2.06-2.06.94z\"/><path d=\"M17.41 7.96l-1.37-1.37c-.4-.4-.92-.59-1.43-.59-.52 0-1.04.2-1.43.59L10.3 9.45l-7.72 7.72c-.78.78-.78 2.05 0 2.83L4 21.41c.39.39.9.59 1.41.59.51 0 1.02-.2 1.41-.59l7.78-7.78 2.81-2.81c.8-.78.8-2.07 0-2.86zM5.41 20L4 18.59l7.72-7.72 1.47 1.35L5.41 20z\"/>\n",
              "  </svg>\n",
              "      </button>\n",
              "      \n",
              "  <style>\n",
              "    .colab-df-container {\n",
              "      display:flex;\n",
              "      flex-wrap:wrap;\n",
              "      gap: 12px;\n",
              "    }\n",
              "\n",
              "    .colab-df-convert {\n",
              "      background-color: #E8F0FE;\n",
              "      border: none;\n",
              "      border-radius: 50%;\n",
              "      cursor: pointer;\n",
              "      display: none;\n",
              "      fill: #1967D2;\n",
              "      height: 32px;\n",
              "      padding: 0 0 0 0;\n",
              "      width: 32px;\n",
              "    }\n",
              "\n",
              "    .colab-df-convert:hover {\n",
              "      background-color: #E2EBFA;\n",
              "      box-shadow: 0px 1px 2px rgba(60, 64, 67, 0.3), 0px 1px 3px 1px rgba(60, 64, 67, 0.15);\n",
              "      fill: #174EA6;\n",
              "    }\n",
              "\n",
              "    [theme=dark] .colab-df-convert {\n",
              "      background-color: #3B4455;\n",
              "      fill: #D2E3FC;\n",
              "    }\n",
              "\n",
              "    [theme=dark] .colab-df-convert:hover {\n",
              "      background-color: #434B5C;\n",
              "      box-shadow: 0px 1px 3px 1px rgba(0, 0, 0, 0.15);\n",
              "      filter: drop-shadow(0px 1px 2px rgba(0, 0, 0, 0.3));\n",
              "      fill: #FFFFFF;\n",
              "    }\n",
              "  </style>\n",
              "\n",
              "      <script>\n",
              "        const buttonEl =\n",
              "          document.querySelector('#df-d7eab7d6-1e5e-497d-b3ed-8186c261e100 button.colab-df-convert');\n",
              "        buttonEl.style.display =\n",
              "          google.colab.kernel.accessAllowed ? 'block' : 'none';\n",
              "\n",
              "        async function convertToInteractive(key) {\n",
              "          const element = document.querySelector('#df-d7eab7d6-1e5e-497d-b3ed-8186c261e100');\n",
              "          const dataTable =\n",
              "            await google.colab.kernel.invokeFunction('convertToInteractive',\n",
              "                                                     [key], {});\n",
              "          if (!dataTable) return;\n",
              "\n",
              "          const docLinkHtml = 'Like what you see? Visit the ' +\n",
              "            '<a target=\"_blank\" href=https://colab.research.google.com/notebooks/data_table.ipynb>data table notebook</a>'\n",
              "            + ' to learn more about interactive tables.';\n",
              "          element.innerHTML = '';\n",
              "          dataTable['output_type'] = 'display_data';\n",
              "          await google.colab.output.renderOutput(dataTable, element);\n",
              "          const docLink = document.createElement('div');\n",
              "          docLink.innerHTML = docLinkHtml;\n",
              "          element.appendChild(docLink);\n",
              "        }\n",
              "      </script>\n",
              "    </div>\n",
              "  </div>\n",
              "  "
            ]
          },
          "metadata": {},
          "execution_count": 16
        }
      ]
    },
    {
      "cell_type": "code",
      "source": [
        "MI_vec = []\n",
        "with open('inertiaVectors.txt') as f:\n",
        "  for line in f:\n",
        "    _,_,_,_,x,y,z = line.split()\n",
        "    MI_vec.append([float(x), float(y), float(z)])"
      ],
      "metadata": {
        "id": "l0mcSqiaVfSJ"
      },
      "execution_count": null,
      "outputs": []
    },
    {
      "cell_type": "code",
      "source": [
        "MI_vec"
      ],
      "metadata": {
        "colab": {
          "base_uri": "https://localhost:8080/"
        },
        "id": "cCJtzuZcoWf5",
        "outputId": "175a5df6-9c06-4915-d1c4-b7591052cc45"
      },
      "execution_count": null,
      "outputs": [
        {
          "output_type": "execute_result",
          "data": {
            "text/plain": [
              "[[0.541059, -0.299595, 0.78581],\n",
              " [0.787317, -0.103191, -0.581439],\n",
              " [0.010829, 0.039588, 0.007637],\n",
              " [0.027761, -0.103066, 0.994287],\n",
              " [-0.010364, -0.974455, -0.10072],\n",
              " [0.050197, -0.000385, -0.001441]]"
            ]
          },
          "metadata": {},
          "execution_count": 18
        }
      ]
    },
    {
      "cell_type": "code",
      "source": [
        "\n",
        "#Moment of Inertia vectors perpendicular to each other\n",
        "dot = np.dot(MI_vec[0], MI_vec[1])\n",
        "math.degrees(np.arccos(dot/(linalg.norm(MI_vec[0])*linalg.norm(MI_vec[1]))))"
      ],
      "metadata": {
        "colab": {
          "base_uri": "https://localhost:8080/"
        },
        "id": "PHgobqXNrNp7",
        "outputId": "1697d517-4523-451b-f0da-b09982700e28"
      },
      "execution_count": null,
      "outputs": [
        {
          "output_type": "execute_result",
          "data": {
            "text/plain": [
              "90.00000723305419"
            ]
          },
          "metadata": {},
          "execution_count": 19
        }
      ]
    },
    {
      "cell_type": "code",
      "source": [
        "m1_v1 = MI_vec[0]\n",
        "m1_v2 = MI_vec[1]\n",
        "m1_v3 = MI_vec[2]\n",
        "m2_v1 = MI_vec[3]\n",
        "m2_v2 = MI_vec[4]\n",
        "m2_v3 = MI_vec[5]"
      ],
      "metadata": {
        "id": "cY1-i4Q11QMS"
      },
      "execution_count": null,
      "outputs": []
    },
    {
      "cell_type": "code",
      "source": [
        "mod1_mat = np.array([MI_vec[0], MI_vec[1], MI_vec[2]])"
      ],
      "metadata": {
        "id": "dfG5kIYc0zYx"
      },
      "execution_count": null,
      "outputs": []
    },
    {
      "cell_type": "code",
      "source": [
        "mod2_mat = np.array([MI_vec[3], MI_vec[4], MI_vec[5]])"
      ],
      "metadata": {
        "id": "5QmYQmM2Veqs"
      },
      "execution_count": null,
      "outputs": []
    },
    {
      "cell_type": "code",
      "source": [
        "#eigen values and eigen vectors of model 1\n",
        "np.linalg.eig(mod1_mat)"
      ],
      "metadata": {
        "colab": {
          "base_uri": "https://localhost:8080/"
        },
        "id": "au3woxqzBrB9",
        "outputId": "de1f0036-be31-4156-9859-83f9af076e38"
      },
      "execution_count": null,
      "outputs": [
        {
          "output_type": "execute_result",
          "data": {
            "text/plain": [
              "(array([0.08648591+0.37851805j, 0.08648591-0.37851805j,\n",
              "        0.27253319+0.j        ]),\n",
              " array([[-0.23803303-0.36120612j, -0.23803303+0.36120612j,\n",
              "          0.51253086+0.j        ],\n",
              "        [-0.89614793+0.j        , -0.89614793-0.j        ,\n",
              "          0.84592734+0.j        ],\n",
              "        [-0.02997543+0.09429097j, -0.02997543-0.09429097j,\n",
              "          0.14737384+0.j        ]]))"
            ]
          },
          "metadata": {},
          "execution_count": 23
        }
      ]
    },
    {
      "cell_type": "code",
      "source": [
        "#eigen values and eigen vectors of model 2\n",
        "np.linalg.eig(mod2_mat)"
      ],
      "metadata": {
        "colab": {
          "base_uri": "https://localhost:8080/"
        },
        "id": "90AcGYE8C6rI",
        "outputId": "15ddef44-c58c-444a-ab02-a323e65c6844"
      },
      "execution_count": null,
      "outputs": [
        {
          "output_type": "execute_result",
          "data": {
            "text/plain": [
              "(array([ 0.23849158, -0.21157378, -0.9750528 ]),\n",
              " array([[ 0.97848514, -0.9724925 ,  0.10727641],\n",
              "        [-0.02536277, -0.01745521,  0.99421596],\n",
              "        [ 0.20475245,  0.23227925, -0.00513776]]))"
            ]
          },
          "metadata": {},
          "execution_count": 24
        }
      ]
    },
    {
      "cell_type": "code",
      "source": [
        "a = np.array(MI_vec[0])/np.linalg.norm(MI_vec[0])\n",
        "b = np.array(MI_vec[3])/np.linalg.norm(MI_vec[3])\n",
        "orth_vec = np.cross(a, b)\n",
        "orth_vec"
      ],
      "metadata": {
        "colab": {
          "base_uri": "https://localhost:8080/"
        },
        "id": "iIVlg9enWgSE",
        "outputId": "e8dab67a-d0c3-48df-de78-e86ff2edc1db"
      },
      "execution_count": null,
      "outputs": [
        {
          "output_type": "execute_result",
          "data": {
            "text/plain": [
              "array([-0.2168932 , -0.51615325, -0.04744775])"
            ]
          },
          "metadata": {},
          "execution_count": 25
        }
      ]
    },
    {
      "cell_type": "code",
      "source": [
        "b"
      ],
      "metadata": {
        "colab": {
          "base_uri": "https://localhost:8080/"
        },
        "id": "aNhN6pC2iugl",
        "outputId": "ce437f72-c87c-4c69-e130-9b8cf0674009"
      },
      "execution_count": null,
      "outputs": [
        {
          "output_type": "execute_result",
          "data": {
            "text/plain": [
              "array([ 0.027761  , -0.103066  ,  0.99428704])"
            ]
          },
          "metadata": {},
          "execution_count": 26
        }
      ]
    },
    {
      "cell_type": "code",
      "source": [
        "orth_vec = orth_vec/np.linalg.norm(orth_vec)\n",
        "np.linalg.norm(orth_vec)"
      ],
      "metadata": {
        "colab": {
          "base_uri": "https://localhost:8080/"
        },
        "id": "53ugOb6wd-g-",
        "outputId": "5afad21d-ce41-4fbf-89bf-6affd9a920e1"
      },
      "execution_count": null,
      "outputs": [
        {
          "output_type": "execute_result",
          "data": {
            "text/plain": [
              "0.9999999999999999"
            ]
          },
          "metadata": {},
          "execution_count": 27
        }
      ]
    },
    {
      "cell_type": "code",
      "source": [
        "def skew(V):\n",
        "  #function returns the skew symmetric cross product matrix of a vector\n",
        "  vec = np.array([[0, -V[2], V[1]],\n",
        "                  [V[2], 0, -V[0]],\n",
        "                  [-V[1], V[0], 0]])\n",
        "  return vec"
      ],
      "metadata": {
        "id": "iYVMSjoEBF11"
      },
      "execution_count": null,
      "outputs": []
    },
    {
      "cell_type": "code",
      "source": [
        "def rotation(V1, V2):\n",
        "\n",
        "  #normalize the given MI vectors to unit vectors\n",
        "  a = np.array(V1)/np.linalg.norm(V1)\n",
        "  b = np.array(V2)/np.linalg.norm(V2)\n",
        "  #rotation axis perpendicular to both vector a and b determined by computing cross product of a and b\n",
        "  orth_vec = np.cross(a, b)\n",
        "  #determining the sin and cos angles of two vectors \n",
        "  r1 = np.dot(a,b)\n",
        "  #magnitude of cross product of unit vectors a and b.\n",
        "  r2 = np.linalg.norm(orth_vec)\n",
        "  orth_vec = orth_vec/np.linalg.norm(orth_vec)\n",
        "\n",
        "  #determining the angle\n",
        "  #angle = math.degrees(np.arccos(np.dot(a, b)))\n",
        "  #radians = angle * np.pi / 180\n",
        "\n",
        "  #rotation matrices rotate vector by an angle theta about the x, y and z-axis.\n",
        "  I = np.eye(3, dtype = 'float')\n",
        "  out = np.outer(orth_vec, orth_vec)\n",
        "  R = r1 * I + r2 * skew(orth_vec) + (1-r1)*out\n",
        "\n",
        "  return R"
      ],
      "metadata": {
        "id": "_0FzJdIU5G2g"
      },
      "execution_count": null,
      "outputs": []
    },
    {
      "cell_type": "code",
      "source": [
        "rot1 = rotation(m1_v1, m2_v1)\n",
        "rot1"
      ],
      "metadata": {
        "colab": {
          "base_uri": "https://localhost:8080/"
        },
        "id": "d4e1fnVPexJf",
        "outputId": "700f0090-4a35-4354-acf6-2738fc7d6aa9"
      },
      "execution_count": null,
      "outputs": [
        {
          "output_type": "execute_result",
          "data": {
            "text/plain": [
              "array([[ 0.85296486,  0.10871578, -0.51052114],\n",
              "       [ 0.01382028,  0.97302242,  0.23029625],\n",
              "       [ 0.52178535, -0.20349015,  0.82845145]])"
            ]
          },
          "metadata": {},
          "execution_count": 142
        }
      ]
    },
    {
      "cell_type": "code",
      "source": [
        "def new_cord(m1_cord, rot_mat):\n",
        "  first_rot = []\n",
        "  for i in range(len(m1_cord)):\n",
        "    atm = np.array(m1_cord.iloc[i,:])\n",
        "    rot_co = np.dot(rot_mat, atm)\n",
        "    first_rot.append([rot_co[0], rot_co[1], rot_co[2]])\n",
        "\n",
        "  return np.array(first_rot)\n"
      ],
      "metadata": {
        "id": "C3KT7WXXlnBw"
      },
      "execution_count": null,
      "outputs": []
    },
    {
      "cell_type": "code",
      "source": [
        "fst_rot = new_cord(m1_cord, rot1)\n",
        "fst_rot = pd.DataFrame(fst_rot, index = mod1_atoms, columns=['x', 'y', 'z'])"
      ],
      "metadata": {
        "id": "5t3xiDo0m7wi"
      },
      "execution_count": null,
      "outputs": []
    },
    {
      "cell_type": "code",
      "source": [
        "rot2 = rotation(m1_v2, m2_v2)\n",
        "rot2"
      ],
      "metadata": {
        "colab": {
          "base_uri": "https://localhost:8080/"
        },
        "id": "4I3atrZrNdxz",
        "outputId": "d8216703-94e5-4160-bc2e-8f76d49c204b"
      },
      "execution_count": null,
      "outputs": [
        {
          "output_type": "execute_result",
          "data": {
            "text/plain": [
              "array([[ 0.44427394,  0.75267014,  0.48590979],\n",
              "       [-0.8409443 ,  0.16333515,  0.51588207],\n",
              "       [ 0.30892289, -0.63781603,  0.70551921]])"
            ]
          },
          "metadata": {},
          "execution_count": 94
        }
      ]
    },
    {
      "cell_type": "code",
      "source": [
        "rot2 = rotation(m1_v2, m2_v2)\n",
        "sec_rot = new_cord(fst_rot, rot2)\n",
        "sec_rot = pd.DataFrame(sec_rot, index = mod1_atoms, columns=['x', 'y', 'z'])"
      ],
      "metadata": {
        "id": "LvczhT60NHoW"
      },
      "execution_count": null,
      "outputs": []
    },
    {
      "cell_type": "code",
      "source": [
        "sec_rot.head()"
      ],
      "metadata": {
        "colab": {
          "base_uri": "https://localhost:8080/",
          "height": 206
        },
        "id": "h37EwF9-Nryi",
        "outputId": "cf3317e3-1fcd-4041-f579-fbf805ec6ba1"
      },
      "execution_count": null,
      "outputs": [
        {
          "output_type": "execute_result",
          "data": {
            "text/plain": [
              "            x         y         z\n",
              "C0  21.327340 -5.368711 -8.494279\n",
              "C1  17.479962 -5.086245 -8.485623\n",
              "C2  16.387873 -1.653013 -7.150021\n",
              "C3  19.452377  0.517438 -7.860397\n",
              "C4  17.633720  3.834405 -8.744927"
            ],
            "text/html": [
              "\n",
              "  <div id=\"df-853be068-8a3b-4275-8606-add98fdd6bb9\">\n",
              "    <div class=\"colab-df-container\">\n",
              "      <div>\n",
              "<style scoped>\n",
              "    .dataframe tbody tr th:only-of-type {\n",
              "        vertical-align: middle;\n",
              "    }\n",
              "\n",
              "    .dataframe tbody tr th {\n",
              "        vertical-align: top;\n",
              "    }\n",
              "\n",
              "    .dataframe thead th {\n",
              "        text-align: right;\n",
              "    }\n",
              "</style>\n",
              "<table border=\"1\" class=\"dataframe\">\n",
              "  <thead>\n",
              "    <tr style=\"text-align: right;\">\n",
              "      <th></th>\n",
              "      <th>x</th>\n",
              "      <th>y</th>\n",
              "      <th>z</th>\n",
              "    </tr>\n",
              "  </thead>\n",
              "  <tbody>\n",
              "    <tr>\n",
              "      <th>C0</th>\n",
              "      <td>21.327340</td>\n",
              "      <td>-5.368711</td>\n",
              "      <td>-8.494279</td>\n",
              "    </tr>\n",
              "    <tr>\n",
              "      <th>C1</th>\n",
              "      <td>17.479962</td>\n",
              "      <td>-5.086245</td>\n",
              "      <td>-8.485623</td>\n",
              "    </tr>\n",
              "    <tr>\n",
              "      <th>C2</th>\n",
              "      <td>16.387873</td>\n",
              "      <td>-1.653013</td>\n",
              "      <td>-7.150021</td>\n",
              "    </tr>\n",
              "    <tr>\n",
              "      <th>C3</th>\n",
              "      <td>19.452377</td>\n",
              "      <td>0.517438</td>\n",
              "      <td>-7.860397</td>\n",
              "    </tr>\n",
              "    <tr>\n",
              "      <th>C4</th>\n",
              "      <td>17.633720</td>\n",
              "      <td>3.834405</td>\n",
              "      <td>-8.744927</td>\n",
              "    </tr>\n",
              "  </tbody>\n",
              "</table>\n",
              "</div>\n",
              "      <button class=\"colab-df-convert\" onclick=\"convertToInteractive('df-853be068-8a3b-4275-8606-add98fdd6bb9')\"\n",
              "              title=\"Convert this dataframe to an interactive table.\"\n",
              "              style=\"display:none;\">\n",
              "        \n",
              "  <svg xmlns=\"http://www.w3.org/2000/svg\" height=\"24px\"viewBox=\"0 0 24 24\"\n",
              "       width=\"24px\">\n",
              "    <path d=\"M0 0h24v24H0V0z\" fill=\"none\"/>\n",
              "    <path d=\"M18.56 5.44l.94 2.06.94-2.06 2.06-.94-2.06-.94-.94-2.06-.94 2.06-2.06.94zm-11 1L8.5 8.5l.94-2.06 2.06-.94-2.06-.94L8.5 2.5l-.94 2.06-2.06.94zm10 10l.94 2.06.94-2.06 2.06-.94-2.06-.94-.94-2.06-.94 2.06-2.06.94z\"/><path d=\"M17.41 7.96l-1.37-1.37c-.4-.4-.92-.59-1.43-.59-.52 0-1.04.2-1.43.59L10.3 9.45l-7.72 7.72c-.78.78-.78 2.05 0 2.83L4 21.41c.39.39.9.59 1.41.59.51 0 1.02-.2 1.41-.59l7.78-7.78 2.81-2.81c.8-.78.8-2.07 0-2.86zM5.41 20L4 18.59l7.72-7.72 1.47 1.35L5.41 20z\"/>\n",
              "  </svg>\n",
              "      </button>\n",
              "      \n",
              "  <style>\n",
              "    .colab-df-container {\n",
              "      display:flex;\n",
              "      flex-wrap:wrap;\n",
              "      gap: 12px;\n",
              "    }\n",
              "\n",
              "    .colab-df-convert {\n",
              "      background-color: #E8F0FE;\n",
              "      border: none;\n",
              "      border-radius: 50%;\n",
              "      cursor: pointer;\n",
              "      display: none;\n",
              "      fill: #1967D2;\n",
              "      height: 32px;\n",
              "      padding: 0 0 0 0;\n",
              "      width: 32px;\n",
              "    }\n",
              "\n",
              "    .colab-df-convert:hover {\n",
              "      background-color: #E2EBFA;\n",
              "      box-shadow: 0px 1px 2px rgba(60, 64, 67, 0.3), 0px 1px 3px 1px rgba(60, 64, 67, 0.15);\n",
              "      fill: #174EA6;\n",
              "    }\n",
              "\n",
              "    [theme=dark] .colab-df-convert {\n",
              "      background-color: #3B4455;\n",
              "      fill: #D2E3FC;\n",
              "    }\n",
              "\n",
              "    [theme=dark] .colab-df-convert:hover {\n",
              "      background-color: #434B5C;\n",
              "      box-shadow: 0px 1px 3px 1px rgba(0, 0, 0, 0.15);\n",
              "      filter: drop-shadow(0px 1px 2px rgba(0, 0, 0, 0.3));\n",
              "      fill: #FFFFFF;\n",
              "    }\n",
              "  </style>\n",
              "\n",
              "      <script>\n",
              "        const buttonEl =\n",
              "          document.querySelector('#df-853be068-8a3b-4275-8606-add98fdd6bb9 button.colab-df-convert');\n",
              "        buttonEl.style.display =\n",
              "          google.colab.kernel.accessAllowed ? 'block' : 'none';\n",
              "\n",
              "        async function convertToInteractive(key) {\n",
              "          const element = document.querySelector('#df-853be068-8a3b-4275-8606-add98fdd6bb9');\n",
              "          const dataTable =\n",
              "            await google.colab.kernel.invokeFunction('convertToInteractive',\n",
              "                                                     [key], {});\n",
              "          if (!dataTable) return;\n",
              "\n",
              "          const docLinkHtml = 'Like what you see? Visit the ' +\n",
              "            '<a target=\"_blank\" href=https://colab.research.google.com/notebooks/data_table.ipynb>data table notebook</a>'\n",
              "            + ' to learn more about interactive tables.';\n",
              "          element.innerHTML = '';\n",
              "          dataTable['output_type'] = 'display_data';\n",
              "          await google.colab.output.renderOutput(dataTable, element);\n",
              "          const docLink = document.createElement('div');\n",
              "          docLink.innerHTML = docLinkHtml;\n",
              "          element.appendChild(docLink);\n",
              "        }\n",
              "      </script>\n",
              "    </div>\n",
              "  </div>\n",
              "  "
            ]
          },
          "metadata": {},
          "execution_count": 96
        }
      ]
    },
    {
      "cell_type": "markdown",
      "source": [
        "**Since rotation matrices 1 and 3 generated from the MI vectors with eigen value of highest mangitude, I used it to rotate the CA coordiantes of both model 1 and 2. Before the third rotation, models gets superimposed**"
      ],
      "metadata": {
        "id": "VfsCiqIkfYvT"
      }
    },
    {
      "cell_type": "code",
      "source": [
        "rot3 = rotation(m1_v3, m2_v3)\n",
        "fin_rot = new_cord(fst_rot, rot3)\n",
        "fin_rot = pd.DataFrame(fin_rot, index = mod1_atoms, columns=['x', 'y', 'z'])"
      ],
      "metadata": {
        "id": "1Wqihjs3OFtx"
      },
      "execution_count": null,
      "outputs": []
    },
    {
      "cell_type": "code",
      "source": [
        "fin_rot.head()"
      ],
      "metadata": {
        "colab": {
          "base_uri": "https://localhost:8080/",
          "height": 206
        },
        "id": "w7uL6G-2OQCB",
        "outputId": "e45f80f9-7217-4bbe-e76f-ad559e9634eb"
      },
      "execution_count": null,
      "outputs": [
        {
          "output_type": "execute_result",
          "data": {
            "text/plain": [
              "            x         y         z\n",
              "C0  22.626440 -5.351667 -3.903221\n",
              "C1  19.084241 -4.080132 -4.750688\n",
              "C2  17.757715 -1.824264 -1.937334\n",
              "C3  20.977011 -0.564882 -0.307375\n",
              "C4  19.813839  3.030147  0.595385"
            ],
            "text/html": [
              "\n",
              "  <div id=\"df-f0c8be71-52d4-45b4-b3d9-1f47748e6e47\">\n",
              "    <div class=\"colab-df-container\">\n",
              "      <div>\n",
              "<style scoped>\n",
              "    .dataframe tbody tr th:only-of-type {\n",
              "        vertical-align: middle;\n",
              "    }\n",
              "\n",
              "    .dataframe tbody tr th {\n",
              "        vertical-align: top;\n",
              "    }\n",
              "\n",
              "    .dataframe thead th {\n",
              "        text-align: right;\n",
              "    }\n",
              "</style>\n",
              "<table border=\"1\" class=\"dataframe\">\n",
              "  <thead>\n",
              "    <tr style=\"text-align: right;\">\n",
              "      <th></th>\n",
              "      <th>x</th>\n",
              "      <th>y</th>\n",
              "      <th>z</th>\n",
              "    </tr>\n",
              "  </thead>\n",
              "  <tbody>\n",
              "    <tr>\n",
              "      <th>C0</th>\n",
              "      <td>22.626440</td>\n",
              "      <td>-5.351667</td>\n",
              "      <td>-3.903221</td>\n",
              "    </tr>\n",
              "    <tr>\n",
              "      <th>C1</th>\n",
              "      <td>19.084241</td>\n",
              "      <td>-4.080132</td>\n",
              "      <td>-4.750688</td>\n",
              "    </tr>\n",
              "    <tr>\n",
              "      <th>C2</th>\n",
              "      <td>17.757715</td>\n",
              "      <td>-1.824264</td>\n",
              "      <td>-1.937334</td>\n",
              "    </tr>\n",
              "    <tr>\n",
              "      <th>C3</th>\n",
              "      <td>20.977011</td>\n",
              "      <td>-0.564882</td>\n",
              "      <td>-0.307375</td>\n",
              "    </tr>\n",
              "    <tr>\n",
              "      <th>C4</th>\n",
              "      <td>19.813839</td>\n",
              "      <td>3.030147</td>\n",
              "      <td>0.595385</td>\n",
              "    </tr>\n",
              "  </tbody>\n",
              "</table>\n",
              "</div>\n",
              "      <button class=\"colab-df-convert\" onclick=\"convertToInteractive('df-f0c8be71-52d4-45b4-b3d9-1f47748e6e47')\"\n",
              "              title=\"Convert this dataframe to an interactive table.\"\n",
              "              style=\"display:none;\">\n",
              "        \n",
              "  <svg xmlns=\"http://www.w3.org/2000/svg\" height=\"24px\"viewBox=\"0 0 24 24\"\n",
              "       width=\"24px\">\n",
              "    <path d=\"M0 0h24v24H0V0z\" fill=\"none\"/>\n",
              "    <path d=\"M18.56 5.44l.94 2.06.94-2.06 2.06-.94-2.06-.94-.94-2.06-.94 2.06-2.06.94zm-11 1L8.5 8.5l.94-2.06 2.06-.94-2.06-.94L8.5 2.5l-.94 2.06-2.06.94zm10 10l.94 2.06.94-2.06 2.06-.94-2.06-.94-.94-2.06-.94 2.06-2.06.94z\"/><path d=\"M17.41 7.96l-1.37-1.37c-.4-.4-.92-.59-1.43-.59-.52 0-1.04.2-1.43.59L10.3 9.45l-7.72 7.72c-.78.78-.78 2.05 0 2.83L4 21.41c.39.39.9.59 1.41.59.51 0 1.02-.2 1.41-.59l7.78-7.78 2.81-2.81c.8-.78.8-2.07 0-2.86zM5.41 20L4 18.59l7.72-7.72 1.47 1.35L5.41 20z\"/>\n",
              "  </svg>\n",
              "      </button>\n",
              "      \n",
              "  <style>\n",
              "    .colab-df-container {\n",
              "      display:flex;\n",
              "      flex-wrap:wrap;\n",
              "      gap: 12px;\n",
              "    }\n",
              "\n",
              "    .colab-df-convert {\n",
              "      background-color: #E8F0FE;\n",
              "      border: none;\n",
              "      border-radius: 50%;\n",
              "      cursor: pointer;\n",
              "      display: none;\n",
              "      fill: #1967D2;\n",
              "      height: 32px;\n",
              "      padding: 0 0 0 0;\n",
              "      width: 32px;\n",
              "    }\n",
              "\n",
              "    .colab-df-convert:hover {\n",
              "      background-color: #E2EBFA;\n",
              "      box-shadow: 0px 1px 2px rgba(60, 64, 67, 0.3), 0px 1px 3px 1px rgba(60, 64, 67, 0.15);\n",
              "      fill: #174EA6;\n",
              "    }\n",
              "\n",
              "    [theme=dark] .colab-df-convert {\n",
              "      background-color: #3B4455;\n",
              "      fill: #D2E3FC;\n",
              "    }\n",
              "\n",
              "    [theme=dark] .colab-df-convert:hover {\n",
              "      background-color: #434B5C;\n",
              "      box-shadow: 0px 1px 3px 1px rgba(0, 0, 0, 0.15);\n",
              "      filter: drop-shadow(0px 1px 2px rgba(0, 0, 0, 0.3));\n",
              "      fill: #FFFFFF;\n",
              "    }\n",
              "  </style>\n",
              "\n",
              "      <script>\n",
              "        const buttonEl =\n",
              "          document.querySelector('#df-f0c8be71-52d4-45b4-b3d9-1f47748e6e47 button.colab-df-convert');\n",
              "        buttonEl.style.display =\n",
              "          google.colab.kernel.accessAllowed ? 'block' : 'none';\n",
              "\n",
              "        async function convertToInteractive(key) {\n",
              "          const element = document.querySelector('#df-f0c8be71-52d4-45b4-b3d9-1f47748e6e47');\n",
              "          const dataTable =\n",
              "            await google.colab.kernel.invokeFunction('convertToInteractive',\n",
              "                                                     [key], {});\n",
              "          if (!dataTable) return;\n",
              "\n",
              "          const docLinkHtml = 'Like what you see? Visit the ' +\n",
              "            '<a target=\"_blank\" href=https://colab.research.google.com/notebooks/data_table.ipynb>data table notebook</a>'\n",
              "            + ' to learn more about interactive tables.';\n",
              "          element.innerHTML = '';\n",
              "          dataTable['output_type'] = 'display_data';\n",
              "          await google.colab.output.renderOutput(dataTable, element);\n",
              "          const docLink = document.createElement('div');\n",
              "          docLink.innerHTML = docLinkHtml;\n",
              "          element.appendChild(docLink);\n",
              "        }\n",
              "      </script>\n",
              "    </div>\n",
              "  </div>\n",
              "  "
            ]
          },
          "metadata": {},
          "execution_count": 146
        }
      ]
    },
    {
      "cell_type": "code",
      "source": [
        "#function computes the root mean square deviation of two data frames\n",
        "def rmsd(df1, df2):\n",
        "  x_comp, y_comp, z_comp = 0,0,0\n",
        "  X0 = df1.iloc[:, 0]\n",
        "  Y0 = df1.iloc[:, 1]\n",
        "  Z0 = df1.iloc[:, 2]\n",
        "  X1 = df2.iloc[:, 0]\n",
        "  Y1 = df2.iloc[:, 1]\n",
        "  Z1 = df2.iloc[:, 2]\n",
        "  for i in range(len(df1)):\n",
        "    x_comp += (X0[i] - X1[i])**2\n",
        "    y_comp += (Y0[i] - Y1[i])**2\n",
        "    z_comp += (Z0[i] - Z1[i])**2\n",
        "  tot = x_comp + y_comp + z_comp\n",
        "  N = len(df1)\n",
        "\n",
        "  return np.sqrt(tot / N)"
      ],
      "metadata": {
        "id": "NYafi26ezfMA"
      },
      "execution_count": null,
      "outputs": []
    },
    {
      "cell_type": "code",
      "source": [
        "rmsd(fin_rot, m2_cord)"
      ],
      "metadata": {
        "colab": {
          "base_uri": "https://localhost:8080/"
        },
        "id": "XPh5hI37QmW8",
        "outputId": "654b4fb9-2bca-4cbd-8fb7-3a2e9d83d4e6"
      },
      "execution_count": null,
      "outputs": [
        {
          "output_type": "execute_result",
          "data": {
            "text/plain": [
              "5.267168150830916"
            ]
          },
          "metadata": {},
          "execution_count": 148
        }
      ]
    },
    {
      "cell_type": "markdown",
      "source": [
        "**The final root mean square deviation between coordiantes of model1 and model 2 is ~5.153**"
      ],
      "metadata": {
        "id": "8WIYhXI0SgZV"
      }
    }
  ]
}
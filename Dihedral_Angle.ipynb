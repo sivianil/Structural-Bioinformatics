{
  "nbformat": 4,
  "nbformat_minor": 0,
  "metadata": {
    "colab": {
      "name": "Dihedral_Angle.ipynb",
      "provenance": [],
      "collapsed_sections": [],
      "authorship_tag": "ABX9TyMdH49ekkT7TkzB8uvOd6bS",
      "include_colab_link": true
    },
    "kernelspec": {
      "name": "python3",
      "display_name": "Python 3"
    },
    "language_info": {
      "name": "python"
    }
  },
  "cells": [
    {
      "cell_type": "markdown",
      "metadata": {
        "id": "view-in-github",
        "colab_type": "text"
      },
      "source": [
        "<a href=\"https://colab.research.google.com/github/sivianil/Structural-Bioinformatics/blob/main/Dihedral_Angle.ipynb\" target=\"_parent\"><img src=\"https://colab.research.google.com/assets/colab-badge.svg\" alt=\"Open In Colab\"/></a>"
      ]
    },
    {
      "cell_type": "code",
      "source": [
        "pip install gemmi"
      ],
      "metadata": {
        "colab": {
          "base_uri": "https://localhost:8080/"
        },
        "id": "FVdlKGuOX93y",
        "outputId": "bd67749b-78d6-404a-d460-5165dcca515f"
      },
      "execution_count": null,
      "outputs": [
        {
          "output_type": "stream",
          "name": "stdout",
          "text": [
            "Collecting gemmi\n",
            "  Downloading gemmi-0.5.4-cp37-cp37m-manylinux_2_17_x86_64.manylinux2014_x86_64.whl (3.1 MB)\n",
            "\u001b[K     |████████████████████████████████| 3.1 MB 5.0 MB/s \n",
            "\u001b[?25hInstalling collected packages: gemmi\n",
            "Successfully installed gemmi-0.5.4\n"
          ]
        }
      ]
    },
    {
      "cell_type": "code",
      "source": [
        "from gemmi import cif\n",
        "\n",
        "#read and parse a cif file\n",
        "cif_file = cif.read_file(\"5keh.cif\")\n",
        "\n"
      ],
      "metadata": {
        "id": "d2DEDICaYDE2"
      },
      "execution_count": null,
      "outputs": []
    },
    {
      "cell_type": "code",
      "source": [
        "frame = cif_file.sole_block()\n",
        "frame.name"
      ],
      "metadata": {
        "colab": {
          "base_uri": "https://localhost:8080/",
          "height": 35
        },
        "id": "DxmJsaS7bKWE",
        "outputId": "7b742c39-c857-4e1e-a2f2-d856afa1cfe5"
      },
      "execution_count": null,
      "outputs": [
        {
          "output_type": "execute_result",
          "data": {
            "text/plain": [
              "'5KEH'"
            ],
            "application/vnd.google.colaboratory.intrinsic+json": {
              "type": "string"
            }
          },
          "metadata": {},
          "execution_count": 3
        }
      ]
    },
    {
      "cell_type": "code",
      "source": [
        "#Access values in loop\n",
        "frame.find_loop('_atom_site.id')\n",
        "\n",
        "#1492 atoms in the given protein structure"
      ],
      "metadata": {
        "colab": {
          "base_uri": "https://localhost:8080/"
        },
        "id": "LGcu8fSwc3TC",
        "outputId": "66847986-eef2-49e0-f5a4-d7500dfee40c"
      },
      "execution_count": null,
      "outputs": [
        {
          "output_type": "execute_result",
          "data": {
            "text/plain": [
              "<gemmi.cif.Column _atom_site.id length 2099>"
            ]
          },
          "metadata": {},
          "execution_count": 4
        }
      ]
    },
    {
      "cell_type": "code",
      "source": [
        "#store the x coordinates of all atoms\n",
        "cord_x = frame.find_values('_atom_site.Cartn_x')\n",
        "len(cord_x)"
      ],
      "metadata": {
        "colab": {
          "base_uri": "https://localhost:8080/"
        },
        "id": "ExQ6G3zGkQ7I",
        "outputId": "13b13ebd-730b-47fb-aa18-e330812d22a9"
      },
      "execution_count": null,
      "outputs": [
        {
          "output_type": "execute_result",
          "data": {
            "text/plain": [
              "2099"
            ]
          },
          "metadata": {},
          "execution_count": 5
        }
      ]
    },
    {
      "cell_type": "code",
      "source": [
        "#store the y and z coordinates of atoms\n",
        "cord_y = frame.find_values('_atom_site.Cartn_y')\n",
        "cord_z = frame.find_values('_atom_site.Cartn_z')"
      ],
      "metadata": {
        "id": "Ev-R-YRdAHF0"
      },
      "execution_count": null,
      "outputs": []
    },
    {
      "cell_type": "code",
      "source": [
        "cord_z[1218]"
      ],
      "metadata": {
        "colab": {
          "base_uri": "https://localhost:8080/",
          "height": 35
        },
        "id": "WBFWgpVnAoY4",
        "outputId": "d9bc3cf5-f548-401e-b43e-b3eeb49e025f"
      },
      "execution_count": null,
      "outputs": [
        {
          "output_type": "execute_result",
          "data": {
            "text/plain": [
              "'25.581'"
            ],
            "application/vnd.google.colaboratory.intrinsic+json": {
              "type": "string"
            }
          },
          "metadata": {},
          "execution_count": 7
        }
      ]
    },
    {
      "cell_type": "code",
      "source": [
        "table = frame.find(['_atom_site.Cartn_x', '_atom_site.Cartn_y', '_atom_site.Cartn_z'])"
      ],
      "metadata": {
        "id": "lEo6xxKaBPEH"
      },
      "execution_count": null,
      "outputs": []
    },
    {
      "cell_type": "code",
      "source": [
        "import numpy as np\n",
        "\n",
        "atom = np.array(frame.find_loop('_atom_site.group_PDB'))"
      ],
      "metadata": {
        "id": "yP5LPzf5iWK2"
      },
      "execution_count": null,
      "outputs": []
    },
    {
      "cell_type": "markdown",
      "source": [
        "**Exercise 1: Dihedral angle of the four atoms** "
      ],
      "metadata": {
        "id": "lD14PXPeUrv6"
      }
    },
    {
      "cell_type": "code",
      "source": [
        "# https://math.stackexchange.com/questions/47059/how-do-i-calculate-a-dihedral-angle-given-cartesian-coordinates \n",
        "#function to calculate dihedral angle \n",
        "import sympy, math\n",
        "def dihed_angle(X1,X2,X3,X4):\n",
        "  #given the coordinates of four points, obtain vectors by vector substraction\n",
        "  b1 = X1-X2\n",
        "  b2 = X2-X3\n",
        "  b3 = X3-X4\n",
        "\n",
        "  #unit vector in the direction of the vectors b1,b2 and b3\n",
        "  norm_b1 = b1/np.linalg.norm(b1)\n",
        "  norm_b2 = b2/np.linalg.norm(b2)\n",
        "  norm_b3 = b3/np.linalg.norm(b3)\n",
        "\n",
        "  #compute normal vectors to the planes containing b1,b2 and b2,b3\n",
        "  #using inbuilt function to compute cross product between two vectors\n",
        "  n1 = np.cross(b1,b2)\n",
        "  n2 = np.cross(b2,b3)\n",
        "\n",
        "  #three vectors n1, b2 and cross product of n1 and b2 form an orthonormal plane\n",
        "  norm_dot = np.dot(n1,n2)\n",
        "  norm_cross = np.cross(n1, b2)\n",
        "\n",
        "  x = norm_dot\n",
        "  y = np.dot(norm_cross, n2)/np.linalg.norm(b2)\n",
        "  \n",
        "  #computes dihedral angle given four cartesian coordinates\n",
        "  res = math.degrees(sympy.atan2(y,x)) \n",
        "\n",
        "  return res\n",
        "\n"
      ],
      "metadata": {
        "id": "ll1ciYnYbjBk"
      },
      "execution_count": null,
      "outputs": []
    },
    {
      "cell_type": "code",
      "source": [
        "import numpy as np\n",
        "X1 = np.array([0, 0, 1])\n",
        "X2 = np.array([0, 0, 0])\n",
        "X3 = np.array([1, 0, 0])\n",
        "X4 = np.array([1, 1, 1])\n",
        "\n",
        "print(\"The dihedral angle is: \", dihed_angle(X1,X2,X3,X4))"
      ],
      "metadata": {
        "colab": {
          "base_uri": "https://localhost:8080/"
        },
        "id": "HZNRuwQMcsDq",
        "outputId": "5b8a4b9e-4204-4da5-c61a-16ecb6e9f974"
      },
      "execution_count": null,
      "outputs": [
        {
          "output_type": "stream",
          "name": "stdout",
          "text": [
            "The dihedral angle is:  -45.0\n"
          ]
        }
      ]
    },
    {
      "cell_type": "code",
      "source": [
        "import numpy as np\n",
        "X1 = np.array([0, 0, 1])\n",
        "X2 = np.array([0, 0, 0])\n",
        "X3 = np.array([1, 0, 0])\n",
        "X4 = np.array([1, -1, 1])\n",
        "\n",
        "print(\"The dihedral angle is: \", dihed_angle(X1,X2,X3,X4))"
      ],
      "metadata": {
        "colab": {
          "base_uri": "https://localhost:8080/"
        },
        "id": "bjsW2mRxdbsT",
        "outputId": "f79a400d-0241-414d-db6e-641bf5ede952"
      },
      "execution_count": null,
      "outputs": [
        {
          "output_type": "stream",
          "name": "stdout",
          "text": [
            "The dihedral angle is:  45.0\n"
          ]
        }
      ]
    },
    {
      "cell_type": "markdown",
      "source": [
        "**Exercise 2: Phi/Psi angles for the Galectin 3c**"
      ],
      "metadata": {
        "id": "M1hs3FRYVTsM"
      }
    },
    {
      "cell_type": "code",
      "source": [
        "#create a pandas data frame with columns containing label atom, label comp, seq id and cartesian cooordinates x,y,z\n",
        "\n",
        "import pandas as pd\n",
        "import numpy as np\n",
        "\n",
        "atom = np.array(frame.find_loop('_atom_site.group_PDB'))\n",
        "\n",
        "label_atom = np.array(frame.find(['_atom_site.label_atom_id']))\n",
        "label_alt = np.array(frame.find(['_atom_site.label_alt_id']))\n",
        "label_comp = np.array(frame.find(['_atom_site.label_comp_id']))\n",
        "seq = np.array(frame.find(['_atom_site.auth_seq_id']))\n",
        "#store the x, y and z coordinates of atoms\n",
        "cord_x = np.array(frame.find_values('_atom_site.Cartn_x'))\n",
        "cord_y = np.array(frame.find_values('_atom_site.Cartn_y'))\n",
        "cord_z = np.array(frame.find_values('_atom_site.Cartn_z'))\n"
      ],
      "metadata": {
        "id": "b7HsqyGxBDBB"
      },
      "execution_count": null,
      "outputs": []
    },
    {
      "cell_type": "code",
      "source": [
        "#select only protein atoms with their corresponding cartesian coordinates\n",
        "\n",
        "prot_atom = len(np.argwhere(atom == \"ATOM\"))\n",
        "\n",
        "label_atom = label_atom[:prot_atom]\n",
        "label_alt = label_alt[:prot_atom]\n",
        "label_comp = label_comp[:prot_atom]\n",
        "seq = seq[:prot_atom]"
      ],
      "metadata": {
        "id": "L1H19r4dHfNV"
      },
      "execution_count": null,
      "outputs": []
    },
    {
      "cell_type": "code",
      "source": [
        "cord_x = cord_x[:prot_atom]\n",
        "cord_y = cord_y[:prot_atom]\n",
        "cord_z = cord_z[:prot_atom]"
      ],
      "metadata": {
        "id": "gE_LEcpoH3wA"
      },
      "execution_count": null,
      "outputs": []
    },
    {
      "cell_type": "code",
      "source": [
        "label_alt[1218]"
      ],
      "metadata": {
        "colab": {
          "base_uri": "https://localhost:8080/"
        },
        "id": "WIO-9fnYIUsp",
        "outputId": "ffe8b023-4798-49ed-b22e-a43935a3146e"
      },
      "execution_count": null,
      "outputs": [
        {
          "output_type": "execute_result",
          "data": {
            "text/plain": [
              "array(['.'], dtype='<U1')"
            ]
          },
          "metadata": {},
          "execution_count": 16
        }
      ]
    },
    {
      "cell_type": "code",
      "source": [
        "label_atom.ndim"
      ],
      "metadata": {
        "colab": {
          "base_uri": "https://localhost:8080/"
        },
        "id": "G3DNRsEUQT8I",
        "outputId": "cc561a63-e04b-4077-f3e2-da65556bd8fe"
      },
      "execution_count": null,
      "outputs": [
        {
          "output_type": "execute_result",
          "data": {
            "text/plain": [
              "2"
            ]
          },
          "metadata": {},
          "execution_count": 52
        }
      ]
    },
    {
      "cell_type": "code",
      "source": [
        "df = pd.DataFrame({'atom': label_atom.flatten(), 'alt': label_alt.flatten(), 'comp': label_comp.flatten(), \n",
        "                    'seq_id': seq.flatten(), 'Cartn_x': cord_x.flatten(), 'Cartn_y': cord_y.flatten(), 'Cartn_z': cord_z.flatten()})"
      ],
      "metadata": {
        "id": "rQY2txmATc7i"
      },
      "execution_count": null,
      "outputs": []
    },
    {
      "cell_type": "code",
      "source": [
        "df.columns"
      ],
      "metadata": {
        "colab": {
          "base_uri": "https://localhost:8080/"
        },
        "id": "cdsr8ugoUAsE",
        "outputId": "3e0a0b5c-6d88-427d-ac29-f958f7c77fc0"
      },
      "execution_count": null,
      "outputs": [
        {
          "output_type": "execute_result",
          "data": {
            "text/plain": [
              "Index(['atom', 'alt', 'comp', 'seq_id', 'Cartn_x', 'Cartn_y', 'Cartn_z'], dtype='object')"
            ]
          },
          "metadata": {},
          "execution_count": 18
        }
      ]
    },
    {
      "cell_type": "code",
      "source": [
        "df1 = df[df['atom'].isin(['N', 'CA', 'C'])]"
      ],
      "metadata": {
        "id": "QJCrfht0Vra4"
      },
      "execution_count": null,
      "outputs": []
    },
    {
      "cell_type": "code",
      "source": [
        "df1"
      ],
      "metadata": {
        "colab": {
          "base_uri": "https://localhost:8080/",
          "height": 424
        },
        "id": "QtKXM1PPXMKs",
        "outputId": "8a7b2984-3eb5-4c81-9424-6f9b10694124"
      },
      "execution_count": null,
      "outputs": [
        {
          "output_type": "execute_result",
          "data": {
            "text/plain": [
              "     atom alt comp seq_id  Cartn_x  Cartn_y Cartn_z\n",
              "0       N   .  ASN     30   21.885  -11.789   7.389\n",
              "1      CA   .  ASN     30   21.312  -11.455   6.106\n",
              "2       C   .  ASN     30   19.828  -11.196   6.314\n",
              "5       N   .  GLY     31   19.418  -11.153   7.592\n",
              "6      CA   .  GLY     31   18.007  -10.911   7.902\n",
              "...   ...  ..  ...    ...      ...      ...     ...\n",
              "1860   CA   .  HIS    270  -11.610  -23.166  17.141\n",
              "1861    C   .  HIS    270  -12.793  -23.779  17.872\n",
              "1869    N   .  HIS    271  -13.883  -23.019  17.990\n",
              "1870   CA   .  HIS    271  -15.061  -23.587  18.683\n",
              "1871    C   .  HIS    271  -15.972  -24.339  17.704\n",
              "\n",
              "[768 rows x 7 columns]"
            ],
            "text/html": [
              "\n",
              "  <div id=\"df-97668e26-8d31-4c62-a26a-bae196cca46c\">\n",
              "    <div class=\"colab-df-container\">\n",
              "      <div>\n",
              "<style scoped>\n",
              "    .dataframe tbody tr th:only-of-type {\n",
              "        vertical-align: middle;\n",
              "    }\n",
              "\n",
              "    .dataframe tbody tr th {\n",
              "        vertical-align: top;\n",
              "    }\n",
              "\n",
              "    .dataframe thead th {\n",
              "        text-align: right;\n",
              "    }\n",
              "</style>\n",
              "<table border=\"1\" class=\"dataframe\">\n",
              "  <thead>\n",
              "    <tr style=\"text-align: right;\">\n",
              "      <th></th>\n",
              "      <th>atom</th>\n",
              "      <th>alt</th>\n",
              "      <th>comp</th>\n",
              "      <th>seq_id</th>\n",
              "      <th>Cartn_x</th>\n",
              "      <th>Cartn_y</th>\n",
              "      <th>Cartn_z</th>\n",
              "    </tr>\n",
              "  </thead>\n",
              "  <tbody>\n",
              "    <tr>\n",
              "      <th>0</th>\n",
              "      <td>N</td>\n",
              "      <td>.</td>\n",
              "      <td>ASN</td>\n",
              "      <td>30</td>\n",
              "      <td>21.885</td>\n",
              "      <td>-11.789</td>\n",
              "      <td>7.389</td>\n",
              "    </tr>\n",
              "    <tr>\n",
              "      <th>1</th>\n",
              "      <td>CA</td>\n",
              "      <td>.</td>\n",
              "      <td>ASN</td>\n",
              "      <td>30</td>\n",
              "      <td>21.312</td>\n",
              "      <td>-11.455</td>\n",
              "      <td>6.106</td>\n",
              "    </tr>\n",
              "    <tr>\n",
              "      <th>2</th>\n",
              "      <td>C</td>\n",
              "      <td>.</td>\n",
              "      <td>ASN</td>\n",
              "      <td>30</td>\n",
              "      <td>19.828</td>\n",
              "      <td>-11.196</td>\n",
              "      <td>6.314</td>\n",
              "    </tr>\n",
              "    <tr>\n",
              "      <th>5</th>\n",
              "      <td>N</td>\n",
              "      <td>.</td>\n",
              "      <td>GLY</td>\n",
              "      <td>31</td>\n",
              "      <td>19.418</td>\n",
              "      <td>-11.153</td>\n",
              "      <td>7.592</td>\n",
              "    </tr>\n",
              "    <tr>\n",
              "      <th>6</th>\n",
              "      <td>CA</td>\n",
              "      <td>.</td>\n",
              "      <td>GLY</td>\n",
              "      <td>31</td>\n",
              "      <td>18.007</td>\n",
              "      <td>-10.911</td>\n",
              "      <td>7.902</td>\n",
              "    </tr>\n",
              "    <tr>\n",
              "      <th>...</th>\n",
              "      <td>...</td>\n",
              "      <td>...</td>\n",
              "      <td>...</td>\n",
              "      <td>...</td>\n",
              "      <td>...</td>\n",
              "      <td>...</td>\n",
              "      <td>...</td>\n",
              "    </tr>\n",
              "    <tr>\n",
              "      <th>1860</th>\n",
              "      <td>CA</td>\n",
              "      <td>.</td>\n",
              "      <td>HIS</td>\n",
              "      <td>270</td>\n",
              "      <td>-11.610</td>\n",
              "      <td>-23.166</td>\n",
              "      <td>17.141</td>\n",
              "    </tr>\n",
              "    <tr>\n",
              "      <th>1861</th>\n",
              "      <td>C</td>\n",
              "      <td>.</td>\n",
              "      <td>HIS</td>\n",
              "      <td>270</td>\n",
              "      <td>-12.793</td>\n",
              "      <td>-23.779</td>\n",
              "      <td>17.872</td>\n",
              "    </tr>\n",
              "    <tr>\n",
              "      <th>1869</th>\n",
              "      <td>N</td>\n",
              "      <td>.</td>\n",
              "      <td>HIS</td>\n",
              "      <td>271</td>\n",
              "      <td>-13.883</td>\n",
              "      <td>-23.019</td>\n",
              "      <td>17.990</td>\n",
              "    </tr>\n",
              "    <tr>\n",
              "      <th>1870</th>\n",
              "      <td>CA</td>\n",
              "      <td>.</td>\n",
              "      <td>HIS</td>\n",
              "      <td>271</td>\n",
              "      <td>-15.061</td>\n",
              "      <td>-23.587</td>\n",
              "      <td>18.683</td>\n",
              "    </tr>\n",
              "    <tr>\n",
              "      <th>1871</th>\n",
              "      <td>C</td>\n",
              "      <td>.</td>\n",
              "      <td>HIS</td>\n",
              "      <td>271</td>\n",
              "      <td>-15.972</td>\n",
              "      <td>-24.339</td>\n",
              "      <td>17.704</td>\n",
              "    </tr>\n",
              "  </tbody>\n",
              "</table>\n",
              "<p>768 rows × 7 columns</p>\n",
              "</div>\n",
              "      <button class=\"colab-df-convert\" onclick=\"convertToInteractive('df-97668e26-8d31-4c62-a26a-bae196cca46c')\"\n",
              "              title=\"Convert this dataframe to an interactive table.\"\n",
              "              style=\"display:none;\">\n",
              "        \n",
              "  <svg xmlns=\"http://www.w3.org/2000/svg\" height=\"24px\"viewBox=\"0 0 24 24\"\n",
              "       width=\"24px\">\n",
              "    <path d=\"M0 0h24v24H0V0z\" fill=\"none\"/>\n",
              "    <path d=\"M18.56 5.44l.94 2.06.94-2.06 2.06-.94-2.06-.94-.94-2.06-.94 2.06-2.06.94zm-11 1L8.5 8.5l.94-2.06 2.06-.94-2.06-.94L8.5 2.5l-.94 2.06-2.06.94zm10 10l.94 2.06.94-2.06 2.06-.94-2.06-.94-.94-2.06-.94 2.06-2.06.94z\"/><path d=\"M17.41 7.96l-1.37-1.37c-.4-.4-.92-.59-1.43-.59-.52 0-1.04.2-1.43.59L10.3 9.45l-7.72 7.72c-.78.78-.78 2.05 0 2.83L4 21.41c.39.39.9.59 1.41.59.51 0 1.02-.2 1.41-.59l7.78-7.78 2.81-2.81c.8-.78.8-2.07 0-2.86zM5.41 20L4 18.59l7.72-7.72 1.47 1.35L5.41 20z\"/>\n",
              "  </svg>\n",
              "      </button>\n",
              "      \n",
              "  <style>\n",
              "    .colab-df-container {\n",
              "      display:flex;\n",
              "      flex-wrap:wrap;\n",
              "      gap: 12px;\n",
              "    }\n",
              "\n",
              "    .colab-df-convert {\n",
              "      background-color: #E8F0FE;\n",
              "      border: none;\n",
              "      border-radius: 50%;\n",
              "      cursor: pointer;\n",
              "      display: none;\n",
              "      fill: #1967D2;\n",
              "      height: 32px;\n",
              "      padding: 0 0 0 0;\n",
              "      width: 32px;\n",
              "    }\n",
              "\n",
              "    .colab-df-convert:hover {\n",
              "      background-color: #E2EBFA;\n",
              "      box-shadow: 0px 1px 2px rgba(60, 64, 67, 0.3), 0px 1px 3px 1px rgba(60, 64, 67, 0.15);\n",
              "      fill: #174EA6;\n",
              "    }\n",
              "\n",
              "    [theme=dark] .colab-df-convert {\n",
              "      background-color: #3B4455;\n",
              "      fill: #D2E3FC;\n",
              "    }\n",
              "\n",
              "    [theme=dark] .colab-df-convert:hover {\n",
              "      background-color: #434B5C;\n",
              "      box-shadow: 0px 1px 3px 1px rgba(0, 0, 0, 0.15);\n",
              "      filter: drop-shadow(0px 1px 2px rgba(0, 0, 0, 0.3));\n",
              "      fill: #FFFFFF;\n",
              "    }\n",
              "  </style>\n",
              "\n",
              "      <script>\n",
              "        const buttonEl =\n",
              "          document.querySelector('#df-97668e26-8d31-4c62-a26a-bae196cca46c button.colab-df-convert');\n",
              "        buttonEl.style.display =\n",
              "          google.colab.kernel.accessAllowed ? 'block' : 'none';\n",
              "\n",
              "        async function convertToInteractive(key) {\n",
              "          const element = document.querySelector('#df-97668e26-8d31-4c62-a26a-bae196cca46c');\n",
              "          const dataTable =\n",
              "            await google.colab.kernel.invokeFunction('convertToInteractive',\n",
              "                                                     [key], {});\n",
              "          if (!dataTable) return;\n",
              "\n",
              "          const docLinkHtml = 'Like what you see? Visit the ' +\n",
              "            '<a target=\"_blank\" href=https://colab.research.google.com/notebooks/data_table.ipynb>data table notebook</a>'\n",
              "            + ' to learn more about interactive tables.';\n",
              "          element.innerHTML = '';\n",
              "          dataTable['output_type'] = 'display_data';\n",
              "          await google.colab.output.renderOutput(dataTable, element);\n",
              "          const docLink = document.createElement('div');\n",
              "          docLink.innerHTML = docLinkHtml;\n",
              "          element.appendChild(docLink);\n",
              "        }\n",
              "      </script>\n",
              "    </div>\n",
              "  </div>\n",
              "  "
            ]
          },
          "metadata": {},
          "execution_count": 20
        }
      ]
    },
    {
      "cell_type": "code",
      "source": [
        "#For some atoms, 2 coordinate sets are given. 'A' set is chosen for those atoms\n",
        "df1 = df1[df1['alt'].isin(['.', 'A'])]"
      ],
      "metadata": {
        "id": "Q3tsEnWTpWQK"
      },
      "execution_count": null,
      "outputs": []
    },
    {
      "cell_type": "code",
      "source": [
        "df1 = df1.drop(columns = ['alt'])"
      ],
      "metadata": {
        "id": "gANYHrynpoKZ"
      },
      "execution_count": null,
      "outputs": []
    },
    {
      "cell_type": "code",
      "source": [
        "df1 = df1.convert_dtypes()\n",
        "df1[[\"seq_id\", \"Cartn_x\", \"Cartn_y\", \"Cartn_z\"]] = df1[[\"seq_id\", \"Cartn_x\", \"Cartn_y\", \"Cartn_z\"]].apply(pd.to_numeric)"
      ],
      "metadata": {
        "id": "O1lvCvuSYbhe"
      },
      "execution_count": null,
      "outputs": []
    },
    {
      "cell_type": "code",
      "source": [
        "df1.dtypes"
      ],
      "metadata": {
        "colab": {
          "base_uri": "https://localhost:8080/"
        },
        "id": "sJiqI-p-Yg6R",
        "outputId": "9e72a5ee-6dbc-4c9c-9252-01db3cfa699c"
      },
      "execution_count": null,
      "outputs": [
        {
          "output_type": "execute_result",
          "data": {
            "text/plain": [
              "atom        string\n",
              "comp        string\n",
              "seq_id       int64\n",
              "Cartn_x    float64\n",
              "Cartn_y    float64\n",
              "Cartn_z    float64\n",
              "dtype: object"
            ]
          },
          "metadata": {},
          "execution_count": 24
        }
      ]
    },
    {
      "cell_type": "code",
      "source": [
        "df1"
      ],
      "metadata": {
        "colab": {
          "base_uri": "https://localhost:8080/",
          "height": 424
        },
        "id": "a2xmB9QBFCXk",
        "outputId": "87163380-55bc-4f1c-8539-bbf7a0fdf1f4"
      },
      "execution_count": null,
      "outputs": [
        {
          "output_type": "execute_result",
          "data": {
            "text/plain": [
              "     atom comp  seq_id  Cartn_x  Cartn_y  Cartn_z\n",
              "0       N  ASN      30   21.885  -11.789    7.389\n",
              "1      CA  ASN      30   21.312  -11.455    6.106\n",
              "2       C  ASN      30   19.828  -11.196    6.314\n",
              "5       N  GLY      31   19.418  -11.153    7.592\n",
              "6      CA  GLY      31   18.007  -10.911    7.902\n",
              "...   ...  ...     ...      ...      ...      ...\n",
              "1860   CA  HIS     270  -11.610  -23.166   17.141\n",
              "1861    C  HIS     270  -12.793  -23.779   17.872\n",
              "1869    N  HIS     271  -13.883  -23.019   17.990\n",
              "1870   CA  HIS     271  -15.061  -23.587   18.683\n",
              "1871    C  HIS     271  -15.972  -24.339   17.704\n",
              "\n",
              "[726 rows x 6 columns]"
            ],
            "text/html": [
              "\n",
              "  <div id=\"df-331a9647-dff7-4a4c-9f85-112d0ffc639a\">\n",
              "    <div class=\"colab-df-container\">\n",
              "      <div>\n",
              "<style scoped>\n",
              "    .dataframe tbody tr th:only-of-type {\n",
              "        vertical-align: middle;\n",
              "    }\n",
              "\n",
              "    .dataframe tbody tr th {\n",
              "        vertical-align: top;\n",
              "    }\n",
              "\n",
              "    .dataframe thead th {\n",
              "        text-align: right;\n",
              "    }\n",
              "</style>\n",
              "<table border=\"1\" class=\"dataframe\">\n",
              "  <thead>\n",
              "    <tr style=\"text-align: right;\">\n",
              "      <th></th>\n",
              "      <th>atom</th>\n",
              "      <th>comp</th>\n",
              "      <th>seq_id</th>\n",
              "      <th>Cartn_x</th>\n",
              "      <th>Cartn_y</th>\n",
              "      <th>Cartn_z</th>\n",
              "    </tr>\n",
              "  </thead>\n",
              "  <tbody>\n",
              "    <tr>\n",
              "      <th>0</th>\n",
              "      <td>N</td>\n",
              "      <td>ASN</td>\n",
              "      <td>30</td>\n",
              "      <td>21.885</td>\n",
              "      <td>-11.789</td>\n",
              "      <td>7.389</td>\n",
              "    </tr>\n",
              "    <tr>\n",
              "      <th>1</th>\n",
              "      <td>CA</td>\n",
              "      <td>ASN</td>\n",
              "      <td>30</td>\n",
              "      <td>21.312</td>\n",
              "      <td>-11.455</td>\n",
              "      <td>6.106</td>\n",
              "    </tr>\n",
              "    <tr>\n",
              "      <th>2</th>\n",
              "      <td>C</td>\n",
              "      <td>ASN</td>\n",
              "      <td>30</td>\n",
              "      <td>19.828</td>\n",
              "      <td>-11.196</td>\n",
              "      <td>6.314</td>\n",
              "    </tr>\n",
              "    <tr>\n",
              "      <th>5</th>\n",
              "      <td>N</td>\n",
              "      <td>GLY</td>\n",
              "      <td>31</td>\n",
              "      <td>19.418</td>\n",
              "      <td>-11.153</td>\n",
              "      <td>7.592</td>\n",
              "    </tr>\n",
              "    <tr>\n",
              "      <th>6</th>\n",
              "      <td>CA</td>\n",
              "      <td>GLY</td>\n",
              "      <td>31</td>\n",
              "      <td>18.007</td>\n",
              "      <td>-10.911</td>\n",
              "      <td>7.902</td>\n",
              "    </tr>\n",
              "    <tr>\n",
              "      <th>...</th>\n",
              "      <td>...</td>\n",
              "      <td>...</td>\n",
              "      <td>...</td>\n",
              "      <td>...</td>\n",
              "      <td>...</td>\n",
              "      <td>...</td>\n",
              "    </tr>\n",
              "    <tr>\n",
              "      <th>1860</th>\n",
              "      <td>CA</td>\n",
              "      <td>HIS</td>\n",
              "      <td>270</td>\n",
              "      <td>-11.610</td>\n",
              "      <td>-23.166</td>\n",
              "      <td>17.141</td>\n",
              "    </tr>\n",
              "    <tr>\n",
              "      <th>1861</th>\n",
              "      <td>C</td>\n",
              "      <td>HIS</td>\n",
              "      <td>270</td>\n",
              "      <td>-12.793</td>\n",
              "      <td>-23.779</td>\n",
              "      <td>17.872</td>\n",
              "    </tr>\n",
              "    <tr>\n",
              "      <th>1869</th>\n",
              "      <td>N</td>\n",
              "      <td>HIS</td>\n",
              "      <td>271</td>\n",
              "      <td>-13.883</td>\n",
              "      <td>-23.019</td>\n",
              "      <td>17.990</td>\n",
              "    </tr>\n",
              "    <tr>\n",
              "      <th>1870</th>\n",
              "      <td>CA</td>\n",
              "      <td>HIS</td>\n",
              "      <td>271</td>\n",
              "      <td>-15.061</td>\n",
              "      <td>-23.587</td>\n",
              "      <td>18.683</td>\n",
              "    </tr>\n",
              "    <tr>\n",
              "      <th>1871</th>\n",
              "      <td>C</td>\n",
              "      <td>HIS</td>\n",
              "      <td>271</td>\n",
              "      <td>-15.972</td>\n",
              "      <td>-24.339</td>\n",
              "      <td>17.704</td>\n",
              "    </tr>\n",
              "  </tbody>\n",
              "</table>\n",
              "<p>726 rows × 6 columns</p>\n",
              "</div>\n",
              "      <button class=\"colab-df-convert\" onclick=\"convertToInteractive('df-331a9647-dff7-4a4c-9f85-112d0ffc639a')\"\n",
              "              title=\"Convert this dataframe to an interactive table.\"\n",
              "              style=\"display:none;\">\n",
              "        \n",
              "  <svg xmlns=\"http://www.w3.org/2000/svg\" height=\"24px\"viewBox=\"0 0 24 24\"\n",
              "       width=\"24px\">\n",
              "    <path d=\"M0 0h24v24H0V0z\" fill=\"none\"/>\n",
              "    <path d=\"M18.56 5.44l.94 2.06.94-2.06 2.06-.94-2.06-.94-.94-2.06-.94 2.06-2.06.94zm-11 1L8.5 8.5l.94-2.06 2.06-.94-2.06-.94L8.5 2.5l-.94 2.06-2.06.94zm10 10l.94 2.06.94-2.06 2.06-.94-2.06-.94-.94-2.06-.94 2.06-2.06.94z\"/><path d=\"M17.41 7.96l-1.37-1.37c-.4-.4-.92-.59-1.43-.59-.52 0-1.04.2-1.43.59L10.3 9.45l-7.72 7.72c-.78.78-.78 2.05 0 2.83L4 21.41c.39.39.9.59 1.41.59.51 0 1.02-.2 1.41-.59l7.78-7.78 2.81-2.81c.8-.78.8-2.07 0-2.86zM5.41 20L4 18.59l7.72-7.72 1.47 1.35L5.41 20z\"/>\n",
              "  </svg>\n",
              "      </button>\n",
              "      \n",
              "  <style>\n",
              "    .colab-df-container {\n",
              "      display:flex;\n",
              "      flex-wrap:wrap;\n",
              "      gap: 12px;\n",
              "    }\n",
              "\n",
              "    .colab-df-convert {\n",
              "      background-color: #E8F0FE;\n",
              "      border: none;\n",
              "      border-radius: 50%;\n",
              "      cursor: pointer;\n",
              "      display: none;\n",
              "      fill: #1967D2;\n",
              "      height: 32px;\n",
              "      padding: 0 0 0 0;\n",
              "      width: 32px;\n",
              "    }\n",
              "\n",
              "    .colab-df-convert:hover {\n",
              "      background-color: #E2EBFA;\n",
              "      box-shadow: 0px 1px 2px rgba(60, 64, 67, 0.3), 0px 1px 3px 1px rgba(60, 64, 67, 0.15);\n",
              "      fill: #174EA6;\n",
              "    }\n",
              "\n",
              "    [theme=dark] .colab-df-convert {\n",
              "      background-color: #3B4455;\n",
              "      fill: #D2E3FC;\n",
              "    }\n",
              "\n",
              "    [theme=dark] .colab-df-convert:hover {\n",
              "      background-color: #434B5C;\n",
              "      box-shadow: 0px 1px 3px 1px rgba(0, 0, 0, 0.15);\n",
              "      filter: drop-shadow(0px 1px 2px rgba(0, 0, 0, 0.3));\n",
              "      fill: #FFFFFF;\n",
              "    }\n",
              "  </style>\n",
              "\n",
              "      <script>\n",
              "        const buttonEl =\n",
              "          document.querySelector('#df-331a9647-dff7-4a4c-9f85-112d0ffc639a button.colab-df-convert');\n",
              "        buttonEl.style.display =\n",
              "          google.colab.kernel.accessAllowed ? 'block' : 'none';\n",
              "\n",
              "        async function convertToInteractive(key) {\n",
              "          const element = document.querySelector('#df-331a9647-dff7-4a4c-9f85-112d0ffc639a');\n",
              "          const dataTable =\n",
              "            await google.colab.kernel.invokeFunction('convertToInteractive',\n",
              "                                                     [key], {});\n",
              "          if (!dataTable) return;\n",
              "\n",
              "          const docLinkHtml = 'Like what you see? Visit the ' +\n",
              "            '<a target=\"_blank\" href=https://colab.research.google.com/notebooks/data_table.ipynb>data table notebook</a>'\n",
              "            + ' to learn more about interactive tables.';\n",
              "          element.innerHTML = '';\n",
              "          dataTable['output_type'] = 'display_data';\n",
              "          await google.colab.output.renderOutput(dataTable, element);\n",
              "          const docLink = document.createElement('div');\n",
              "          docLink.innerHTML = docLinkHtml;\n",
              "          element.appendChild(docLink);\n",
              "        }\n",
              "      </script>\n",
              "    </div>\n",
              "  </div>\n",
              "  "
            ]
          },
          "metadata": {},
          "execution_count": 25
        }
      ]
    },
    {
      "cell_type": "code",
      "source": [
        "col_bind = df1['comp'] + df1['seq_id'].map(str)\n",
        "df1['residue'] = col_bind"
      ],
      "metadata": {
        "id": "XzESlWh5WGA1"
      },
      "execution_count": null,
      "outputs": []
    },
    {
      "cell_type": "code",
      "source": [
        "df1 = df1.drop(columns = ['comp', 'seq_id'])\n",
        "df1"
      ],
      "metadata": {
        "colab": {
          "base_uri": "https://localhost:8080/",
          "height": 424
        },
        "id": "rJ5uwa_eXqS5",
        "outputId": "42e93de9-fd17-48ef-921e-e5f87ce5bba1"
      },
      "execution_count": null,
      "outputs": [
        {
          "output_type": "execute_result",
          "data": {
            "text/plain": [
              "     atom  Cartn_x  Cartn_y  Cartn_z residue\n",
              "0       N   21.885  -11.789    7.389   ASN30\n",
              "1      CA   21.312  -11.455    6.106   ASN30\n",
              "2       C   19.828  -11.196    6.314   ASN30\n",
              "5       N   19.418  -11.153    7.592   GLY31\n",
              "6      CA   18.007  -10.911    7.902   GLY31\n",
              "...   ...      ...      ...      ...     ...\n",
              "1860   CA  -11.610  -23.166   17.141  HIS270\n",
              "1861    C  -12.793  -23.779   17.872  HIS270\n",
              "1869    N  -13.883  -23.019   17.990  HIS271\n",
              "1870   CA  -15.061  -23.587   18.683  HIS271\n",
              "1871    C  -15.972  -24.339   17.704  HIS271\n",
              "\n",
              "[726 rows x 5 columns]"
            ],
            "text/html": [
              "\n",
              "  <div id=\"df-9cc9c7f6-5c97-4e5a-aa37-8bb51f840481\">\n",
              "    <div class=\"colab-df-container\">\n",
              "      <div>\n",
              "<style scoped>\n",
              "    .dataframe tbody tr th:only-of-type {\n",
              "        vertical-align: middle;\n",
              "    }\n",
              "\n",
              "    .dataframe tbody tr th {\n",
              "        vertical-align: top;\n",
              "    }\n",
              "\n",
              "    .dataframe thead th {\n",
              "        text-align: right;\n",
              "    }\n",
              "</style>\n",
              "<table border=\"1\" class=\"dataframe\">\n",
              "  <thead>\n",
              "    <tr style=\"text-align: right;\">\n",
              "      <th></th>\n",
              "      <th>atom</th>\n",
              "      <th>Cartn_x</th>\n",
              "      <th>Cartn_y</th>\n",
              "      <th>Cartn_z</th>\n",
              "      <th>residue</th>\n",
              "    </tr>\n",
              "  </thead>\n",
              "  <tbody>\n",
              "    <tr>\n",
              "      <th>0</th>\n",
              "      <td>N</td>\n",
              "      <td>21.885</td>\n",
              "      <td>-11.789</td>\n",
              "      <td>7.389</td>\n",
              "      <td>ASN30</td>\n",
              "    </tr>\n",
              "    <tr>\n",
              "      <th>1</th>\n",
              "      <td>CA</td>\n",
              "      <td>21.312</td>\n",
              "      <td>-11.455</td>\n",
              "      <td>6.106</td>\n",
              "      <td>ASN30</td>\n",
              "    </tr>\n",
              "    <tr>\n",
              "      <th>2</th>\n",
              "      <td>C</td>\n",
              "      <td>19.828</td>\n",
              "      <td>-11.196</td>\n",
              "      <td>6.314</td>\n",
              "      <td>ASN30</td>\n",
              "    </tr>\n",
              "    <tr>\n",
              "      <th>5</th>\n",
              "      <td>N</td>\n",
              "      <td>19.418</td>\n",
              "      <td>-11.153</td>\n",
              "      <td>7.592</td>\n",
              "      <td>GLY31</td>\n",
              "    </tr>\n",
              "    <tr>\n",
              "      <th>6</th>\n",
              "      <td>CA</td>\n",
              "      <td>18.007</td>\n",
              "      <td>-10.911</td>\n",
              "      <td>7.902</td>\n",
              "      <td>GLY31</td>\n",
              "    </tr>\n",
              "    <tr>\n",
              "      <th>...</th>\n",
              "      <td>...</td>\n",
              "      <td>...</td>\n",
              "      <td>...</td>\n",
              "      <td>...</td>\n",
              "      <td>...</td>\n",
              "    </tr>\n",
              "    <tr>\n",
              "      <th>1860</th>\n",
              "      <td>CA</td>\n",
              "      <td>-11.610</td>\n",
              "      <td>-23.166</td>\n",
              "      <td>17.141</td>\n",
              "      <td>HIS270</td>\n",
              "    </tr>\n",
              "    <tr>\n",
              "      <th>1861</th>\n",
              "      <td>C</td>\n",
              "      <td>-12.793</td>\n",
              "      <td>-23.779</td>\n",
              "      <td>17.872</td>\n",
              "      <td>HIS270</td>\n",
              "    </tr>\n",
              "    <tr>\n",
              "      <th>1869</th>\n",
              "      <td>N</td>\n",
              "      <td>-13.883</td>\n",
              "      <td>-23.019</td>\n",
              "      <td>17.990</td>\n",
              "      <td>HIS271</td>\n",
              "    </tr>\n",
              "    <tr>\n",
              "      <th>1870</th>\n",
              "      <td>CA</td>\n",
              "      <td>-15.061</td>\n",
              "      <td>-23.587</td>\n",
              "      <td>18.683</td>\n",
              "      <td>HIS271</td>\n",
              "    </tr>\n",
              "    <tr>\n",
              "      <th>1871</th>\n",
              "      <td>C</td>\n",
              "      <td>-15.972</td>\n",
              "      <td>-24.339</td>\n",
              "      <td>17.704</td>\n",
              "      <td>HIS271</td>\n",
              "    </tr>\n",
              "  </tbody>\n",
              "</table>\n",
              "<p>726 rows × 5 columns</p>\n",
              "</div>\n",
              "      <button class=\"colab-df-convert\" onclick=\"convertToInteractive('df-9cc9c7f6-5c97-4e5a-aa37-8bb51f840481')\"\n",
              "              title=\"Convert this dataframe to an interactive table.\"\n",
              "              style=\"display:none;\">\n",
              "        \n",
              "  <svg xmlns=\"http://www.w3.org/2000/svg\" height=\"24px\"viewBox=\"0 0 24 24\"\n",
              "       width=\"24px\">\n",
              "    <path d=\"M0 0h24v24H0V0z\" fill=\"none\"/>\n",
              "    <path d=\"M18.56 5.44l.94 2.06.94-2.06 2.06-.94-2.06-.94-.94-2.06-.94 2.06-2.06.94zm-11 1L8.5 8.5l.94-2.06 2.06-.94-2.06-.94L8.5 2.5l-.94 2.06-2.06.94zm10 10l.94 2.06.94-2.06 2.06-.94-2.06-.94-.94-2.06-.94 2.06-2.06.94z\"/><path d=\"M17.41 7.96l-1.37-1.37c-.4-.4-.92-.59-1.43-.59-.52 0-1.04.2-1.43.59L10.3 9.45l-7.72 7.72c-.78.78-.78 2.05 0 2.83L4 21.41c.39.39.9.59 1.41.59.51 0 1.02-.2 1.41-.59l7.78-7.78 2.81-2.81c.8-.78.8-2.07 0-2.86zM5.41 20L4 18.59l7.72-7.72 1.47 1.35L5.41 20z\"/>\n",
              "  </svg>\n",
              "      </button>\n",
              "      \n",
              "  <style>\n",
              "    .colab-df-container {\n",
              "      display:flex;\n",
              "      flex-wrap:wrap;\n",
              "      gap: 12px;\n",
              "    }\n",
              "\n",
              "    .colab-df-convert {\n",
              "      background-color: #E8F0FE;\n",
              "      border: none;\n",
              "      border-radius: 50%;\n",
              "      cursor: pointer;\n",
              "      display: none;\n",
              "      fill: #1967D2;\n",
              "      height: 32px;\n",
              "      padding: 0 0 0 0;\n",
              "      width: 32px;\n",
              "    }\n",
              "\n",
              "    .colab-df-convert:hover {\n",
              "      background-color: #E2EBFA;\n",
              "      box-shadow: 0px 1px 2px rgba(60, 64, 67, 0.3), 0px 1px 3px 1px rgba(60, 64, 67, 0.15);\n",
              "      fill: #174EA6;\n",
              "    }\n",
              "\n",
              "    [theme=dark] .colab-df-convert {\n",
              "      background-color: #3B4455;\n",
              "      fill: #D2E3FC;\n",
              "    }\n",
              "\n",
              "    [theme=dark] .colab-df-convert:hover {\n",
              "      background-color: #434B5C;\n",
              "      box-shadow: 0px 1px 3px 1px rgba(0, 0, 0, 0.15);\n",
              "      filter: drop-shadow(0px 1px 2px rgba(0, 0, 0, 0.3));\n",
              "      fill: #FFFFFF;\n",
              "    }\n",
              "  </style>\n",
              "\n",
              "      <script>\n",
              "        const buttonEl =\n",
              "          document.querySelector('#df-9cc9c7f6-5c97-4e5a-aa37-8bb51f840481 button.colab-df-convert');\n",
              "        buttonEl.style.display =\n",
              "          google.colab.kernel.accessAllowed ? 'block' : 'none';\n",
              "\n",
              "        async function convertToInteractive(key) {\n",
              "          const element = document.querySelector('#df-9cc9c7f6-5c97-4e5a-aa37-8bb51f840481');\n",
              "          const dataTable =\n",
              "            await google.colab.kernel.invokeFunction('convertToInteractive',\n",
              "                                                     [key], {});\n",
              "          if (!dataTable) return;\n",
              "\n",
              "          const docLinkHtml = 'Like what you see? Visit the ' +\n",
              "            '<a target=\"_blank\" href=https://colab.research.google.com/notebooks/data_table.ipynb>data table notebook</a>'\n",
              "            + ' to learn more about interactive tables.';\n",
              "          element.innerHTML = '';\n",
              "          dataTable['output_type'] = 'display_data';\n",
              "          await google.colab.output.renderOutput(dataTable, element);\n",
              "          const docLink = document.createElement('div');\n",
              "          docLink.innerHTML = docLinkHtml;\n",
              "          element.appendChild(docLink);\n",
              "        }\n",
              "      </script>\n",
              "    </div>\n",
              "  </div>\n",
              "  "
            ]
          },
          "metadata": {},
          "execution_count": 27
        }
      ]
    },
    {
      "cell_type": "code",
      "source": [
        "def psi(df):\n",
        "  #create empty list to store the psi angles\n",
        "  psi_angle = []\n",
        "  seq = df.residue.unique()\n",
        "\n",
        "  #No of residues or calpha atoms in given protein structure equal to 138\n",
        "  j = 0\n",
        "  for i in range(len(seq)):\n",
        "    if np.all(np.array(df.iloc[j:j+4, 0]) == np.array(['N','CA','C','N'])):\n",
        "      X1 = np.array(df.iloc[j, 1:4], dtype = \"float64\")\n",
        "      X2 = np.array(df.iloc[j+1, 1:4], dtype = \"float64\")\n",
        "      X3 = np.array(df.iloc[j+2, 1:4], dtype = \"float64\")\n",
        "      X4 = np.array(df.iloc[j+3, 1:4], dtype = \"float64\")\n",
        "      #adds each angle to the list\n",
        "      psi_angle.append(dihed_angle(X1,X2,X3,X4))\n",
        "      j = j+3\n",
        "    else:\n",
        "     psi_angle.append('NA')\n",
        "  return psi_angle\n"
      ],
      "metadata": {
        "id": "m6y-NMIrc5Ny"
      },
      "execution_count": null,
      "outputs": []
    },
    {
      "cell_type": "code",
      "source": [
        "def phi(df):\n",
        "  #create empty list to store the phi angles\n",
        "  phi_angle = []\n",
        "  seq = df.residue.unique()\n",
        "\n",
        "  #No of residues or calpha atoms in given protein structure equal to 138\n",
        "  j = 0\n",
        "  for i in range(len(seq)):\n",
        "    if np.all(np.array(df.iloc[j:j+4, 0]) == np.array(['C','N','CA','C'])):\n",
        "      X1 = np.array(df.iloc[j, 1:4], dtype = \"float64\")\n",
        "      X2 = np.array(df.iloc[j+1, 1:4], dtype = \"float64\")\n",
        "      X3 = np.array(df.iloc[j+2, 1:4], dtype = \"float64\")\n",
        "      X4 = np.array(df.iloc[j+3, 1:4], dtype = \"float64\")\n",
        "\n",
        "      phi_angle.append(dihed_angle(X1,X2,X3,X4))\n",
        "      j = j+3\n",
        "    else:\n",
        "      phi_angle.append('NA')\n",
        "      j = j+2\n",
        "     \n",
        "\n",
        "  return phi_angle"
      ],
      "metadata": {
        "id": "sA52RV-9aRiR"
      },
      "execution_count": null,
      "outputs": []
    },
    {
      "cell_type": "code",
      "source": [
        "phi = phi(df1)"
      ],
      "metadata": {
        "id": "0TEW6CM9anxi"
      },
      "execution_count": null,
      "outputs": []
    },
    {
      "cell_type": "code",
      "source": [
        "psi = psi(df1)"
      ],
      "metadata": {
        "colab": {
          "base_uri": "https://localhost:8080/"
        },
        "id": "ALTJ36jL67R4",
        "outputId": "58a4df5d-94ba-4fd4-d15c-09529da9309d"
      },
      "execution_count": null,
      "outputs": [
        {
          "output_type": "stream",
          "name": "stderr",
          "text": [
            "/usr/local/lib/python3.7/dist-packages/ipykernel_launcher.py:9: FutureWarning: elementwise comparison failed; returning scalar instead, but in the future will perform elementwise comparison\n",
            "  if __name__ == '__main__':\n"
          ]
        }
      ]
    },
    {
      "cell_type": "code",
      "source": [
        "phi[137]*math.pi/180"
      ],
      "metadata": {
        "colab": {
          "base_uri": "https://localhost:8080/"
        },
        "id": "Ooocgrw91oPo",
        "outputId": "5c8f3291-9e9a-48d6-859e-761b06833674"
      },
      "execution_count": null,
      "outputs": [
        {
          "output_type": "execute_result",
          "data": {
            "text/plain": [
              "-1.9164710783271788"
            ]
          },
          "metadata": {},
          "execution_count": 30
        }
      ]
    },
    {
      "cell_type": "code",
      "source": [
        "phi_psi_dic = {}\n",
        "for i in range(len(phi)):\n",
        "  residue = df1.residue.unique()\n",
        "  val = [phi[i], psi[i]]\n",
        "  phi_psi_dic[residue[i]] = val"
      ],
      "metadata": {
        "id": "lVWLvZObeE_x"
      },
      "execution_count": null,
      "outputs": []
    },
    {
      "cell_type": "code",
      "source": [
        "phi_psi_dic "
      ],
      "metadata": {
        "colab": {
          "base_uri": "https://localhost:8080/"
        },
        "id": "LImot1JJLn_c",
        "outputId": "af30edd1-a7a9-4f86-ff1a-8fa3d693808e"
      },
      "execution_count": null,
      "outputs": [
        {
          "output_type": "execute_result",
          "data": {
            "text/plain": [
              "{'ALA105': [-78.87176118869833, 159.32646486698926],\n",
              " 'ALA106': [-70.28398763711441, 144.26813188559214],\n",
              " 'ALA125': [-121.13012280683331, 122.93306506060676],\n",
              " 'ALA131': [-50.18988390911156, 138.15969582069548],\n",
              " 'ALA132': [-144.0432587428597, 169.73412384141164],\n",
              " 'ALA134': [-131.77475827888844, 140.72120310503854],\n",
              " 'ALA198': [-165.92460691242985, 161.37327468058788],\n",
              " 'ALA209': [-163.32083336945448, 160.99508247414045],\n",
              " 'ALA210': [-59.067404722311174, -43.521560500081556],\n",
              " 'ALA214': [-122.3611777078118, 109.93433968333058],\n",
              " 'ALA236': [-57.87292004881193, 143.43240262620782],\n",
              " 'ALA256': [-80.42596270178257, 125.45553398939612],\n",
              " 'ALA264': [-106.60887468168586, 163.62293101615018],\n",
              " 'ALA36': [-72.90528657121632, -13.82425860921717],\n",
              " 'ALA45': [-111.30634425404857, 146.60376653914338],\n",
              " 'ALA78': [-149.10074778943644, 150.3539966857376],\n",
              " 'ALA83': [-107.77399856410918, 137.26797575043298],\n",
              " 'ALA86': [-63.60376602519056, 155.19764958930327],\n",
              " 'ALA92': [-111.12742791932192, -9.25368554030916],\n",
              " 'ALA97': [-61.8694206890679, 158.10826721033717],\n",
              " 'ARG116': [-92.85855354871597, 4.6321705001278195],\n",
              " 'ARG154': [-152.8620133773231, 133.08870520580845],\n",
              " 'ARG200': [-150.23506071985366, 153.05345552800114],\n",
              " 'ARG204': [-127.8211891552365, 17.86775070993635],\n",
              " 'ARG249': [-149.22273273883886, 136.64083803532662],\n",
              " 'ARG251': [-131.1645367958079, 131.93749146195674],\n",
              " 'ASN100': [-68.94714757165477, -22.25000779044474],\n",
              " 'ASN102': [-114.36216377458625, 90.84556374145619],\n",
              " 'ASN111': [-110.8968151969605, 114.56456231031646],\n",
              " 'ASN117': [-83.49326975904971, 130.12857848932993],\n",
              " 'ASN138': [-152.95034811225824, 102.0890622154731],\n",
              " 'ASN140': [-84.98843119190984, -10.32482177946834],\n",
              " 'ASN151': [63.91275400009265, 30.007493039604473],\n",
              " 'ASN161': [-119.77855204250237, 147.57015123026],\n",
              " 'ASN166': [54.34116286475389, 31.425480684046423],\n",
              " 'ASN176': [51.822179152732446, 37.30514629746492],\n",
              " 'ASN177': [-134.57722007635078, 134.43737154251488],\n",
              " 'ASN179': [-73.20111784507421, 171.09286575038578],\n",
              " 'ASN186': [-87.16596759024674, -2.609159808121253],\n",
              " 'ASN189': [-126.94777018144264, 135.65432605951673],\n",
              " 'ASN219': [-139.65181620373073, 159.03279272648413],\n",
              " 'ASN254': [-106.75590419675329, 112.85256482189648],\n",
              " 'ASN30': ['NA', 8.315527720452243],\n",
              " 'ASN47': [-23.606300935643954, 115.97206087706917],\n",
              " 'ASN54': [-84.1948605357422, 88.95653998388539],\n",
              " 'ASN59': [-86.48257664665545, -174.33566709993687],\n",
              " 'ASN60': [-65.02515733334656, -19.675667009237184],\n",
              " 'ASN66': [-105.62082864585152, 130.43604143985186],\n",
              " 'ASN72': [-144.782185516657, 143.76184407069272],\n",
              " 'ASN81': [-84.07693129530959, 98.15477410511373],\n",
              " 'ASN82': [-107.97745969276731, 37.110613635516934],\n",
              " 'ASN96': [-75.9790074741024, 160.14627276723047],\n",
              " 'ASN98': [-84.16782921084818, 108.93413101622946],\n",
              " 'ASP145': [-135.91588632425797, 100.4955830129123],\n",
              " 'ASP195': [-111.44520777946737, 133.65071263952981],\n",
              " 'ASP202': [-131.26208875376497, 105.4660580623388],\n",
              " 'ASP226': [-68.68740056255805, 139.4035294330961],\n",
              " 'ASP238': [-80.09409690513732, 145.78860629428058],\n",
              " 'ASP35': [-61.84557066409708, 148.69441714788863],\n",
              " 'ASP42': [-91.49479741904564, 131.47944228227618],\n",
              " 'ASP70': [-143.3746412229149, 141.3138151936625],\n",
              " 'CYS144': [-122.38845704584816, 116.43325778331099],\n",
              " 'CYS147': [-89.75754826212327, 175.14810546384578],\n",
              " 'GLN104': [-131.97388743043024, 122.93773979749776],\n",
              " 'GLN124': [-80.07472244704596, 150.09944952044725],\n",
              " 'GLN168': [-111.73126980147764, 145.14212995891697],\n",
              " 'GLN218': [-101.2073718809659, 107.69808893347727],\n",
              " 'GLN223': [-58.29445949338518, -23.72616816320986],\n",
              " 'GLN231': [-98.26981026068684, 154.55760201577527],\n",
              " 'GLN246': [-124.60801170983525, 98.10211581744755],\n",
              " 'GLN39': [-104.83608654235218, 15.061015788685056],\n",
              " 'GLN51': [-92.15072607183197, 137.5627364621234],\n",
              " 'GLN67': [-113.83006151247747, 142.06669554368642],\n",
              " 'GLN69': [-78.07661363910066, -29.459520271047044],\n",
              " 'GLN88': [-105.64224143134038, 107.77805950318955],\n",
              " 'GLN90': [-69.51247525423864, -41.1737731459947],\n",
              " 'GLU112': [-115.95210178522481, 117.6368352168414],\n",
              " 'GLU126': [-116.79510368142415, 132.10254235225116],\n",
              " 'GLU133': [-82.07018041556367, 147.96605329670095],\n",
              " 'GLU165': [-137.6907855630156, 127.00097891350636],\n",
              " 'GLU211': [-145.67756554300556, 147.0358514021546],\n",
              " 'GLU257': [-62.91345357402556, 147.37630441100472],\n",
              " 'GLU61': [-80.71899887977295, -1.4394268037412261],\n",
              " 'GLU85': [-134.25363660559685, 155.8593576497449],\n",
              " 'GLY103': [72.67559106350997, -15.495942993176847],\n",
              " 'GLY123': [-160.09060610452926, -171.81539427008437],\n",
              " 'GLY129': [99.82146830475368, -130.73607186503546],\n",
              " 'GLY141': [127.69406948746565, 148.04424543282016],\n",
              " 'GLY146': [72.45548159789138, 26.592887789715185],\n",
              " 'GLY148': [-179.86339367019983, 176.15838967913416],\n",
              " 'GLY160': [173.76994328745357, -171.72095959291002],\n",
              " 'GLY167': [84.37210063622581, 2.421601115597666],\n",
              " 'GLY171': [151.98304771070025, -146.21979148168566],\n",
              " 'GLY184': [-91.12148146996188, -178.1145108178121],\n",
              " 'GLY187': [81.54906947992855, -168.60496904940763],\n",
              " 'GLY192': [-90.76237332514376, -173.46411967048635],\n",
              " 'GLY205': [-141.00520272706524, -165.60949662524803],\n",
              " 'GLY217': [109.6279182896328, -174.1109317361524],\n",
              " 'GLY243': [122.05254984687443, -125.02581233891432],\n",
              " 'GLY248': [-76.5721919582596, -29.558044468133676],\n",
              " 'GLY258': [78.19440372135344, 7.740069266091866],\n",
              " 'GLY260': [-148.48991499052113, -168.66202835124804],\n",
              " 'GLY265': [-86.3606370338039, -164.44390945663105],\n",
              " 'GLY31': [-63.715181542161965, -31.109805665833708],\n",
              " 'GLY37': [-82.68135189893353, -167.5608309750575],\n",
              " 'GLY40': [-88.56461510372473, 124.88312438539683],\n",
              " 'GLY48': [102.7282712317098, -19.035689084350995],\n",
              " 'GLY49': [105.92926952048066, 2.668267994544828],\n",
              " 'GLY62': [80.70961584957777, 7.872081279675286],\n",
              " 'GLY74': [-92.92116466596875, -177.00280663032714],\n",
              " 'GLY77': [89.12386536013037, -174.873248449557],\n",
              " 'GLY87': [179.92482017052214, -164.90748017270755],\n",
              " 'GLY93': [79.38048345528362, -144.1792766248114],\n",
              " 'HIS224': [-97.60677606297322, 6.189361213331689],\n",
              " 'HIS266': [-75.51993686358911, -15.82583419528994],\n",
              " 'HIS267': [-122.02790029884106, 150.68224221802845],\n",
              " 'HIS268': [-123.25463517179911, 96.85841544128215],\n",
              " 'HIS269': [-77.59949162329912, 147.79002602072944],\n",
              " 'HIS270': [-62.04208598764548, 143.28212245903083],\n",
              " 'HIS271': [-88.48264197288769, 'NA'],\n",
              " 'HIS38': [-70.18295233484574, -14.123191686230117],\n",
              " 'HIS65': [-99.89367633444412, 102.20517056929481],\n",
              " 'HIS94': [-68.99485986390873, 130.26820553475338],\n",
              " 'ILE109': [-106.54158955961208, 100.62814166732441],\n",
              " 'ILE130': [-73.09560670775856, 124.98908515631187],\n",
              " 'ILE142': [-131.66815572658604, 130.19929723342548],\n",
              " 'ILE150': [-113.4522742060801, 133.51030333641592],\n",
              " 'ILE197': [-126.14530057552135, 114.25915602569788],\n",
              " 'ILE201': [-119.12001081113883, 140.84360335788236],\n",
              " 'ILE207': [-106.71818576173612, 120.25464523414661],\n",
              " 'ILE212': [-117.1276530161506, 123.65804630562138],\n",
              " 'ILE227': [-82.47491488358912, 116.57057213740737],\n",
              " 'ILE250': [-123.8211468058418, 128.34618819283855],\n",
              " 'ILE252': [-130.49142714567358, 130.16169769688813],\n",
              " 'ILE253': [-133.74921633518161, 119.12525322727849],\n",
              " 'ILE32': [-108.1453370643666, 121.98470617188613],\n",
              " 'ILE53': [-107.07158968806347, 112.51038694196042],\n",
              " 'ILE55': [-57.08624784322979, 154.1472356383001],\n",
              " 'ILE63': [-95.24330618823069, 124.71923602207583],\n",
              " 'LEU101': [-85.32821331079596, 134.72409240448474],\n",
              " 'LEU108': [-130.4253531481598, 129.6096578021527],\n",
              " 'LEU110': [-95.961656380069, 119.36893776823278],\n",
              " 'LEU121': [-113.46291045506575, 103.98133992993644],\n",
              " 'LEU122': [-114.77479121735615, 13.384341220945803],\n",
              " 'LEU136': [-111.7034814718892, 121.166674758509],\n",
              " 'LEU157': [-107.29919482313088, 117.08215104481023],\n",
              " 'LEU163': [-108.01355654687872, 128.50767942274874],\n",
              " 'LEU169': [-68.27453363669049, 123.48676830801519],\n",
              " 'LEU175': [-59.19930594320799, 147.15240465584438],\n",
              " 'LEU180': [-112.41059725392509, 135.1270991670234],\n",
              " 'LEU181': [-94.59127195914705, 107.617443956115],\n",
              " 'LEU183': [-123.31794032857968, 122.76418215237867],\n",
              " 'LEU188': [-144.81684312411787, 127.45659333754138],\n",
              " 'LEU193': [-70.7106126745913, 148.32077500561647],\n",
              " 'LEU194': [-130.13173460378803, 127.48225240617086],\n",
              " 'LEU196': [-120.22826785674735, 108.05556979249366],\n",
              " 'LEU228': [-94.5539277423783, -28.88918126640545],\n",
              " 'LEU237': [-121.14477069621363, 74.59401049549369],\n",
              " 'LEU263': [-98.40880438450716, 109.76631842826035],\n",
              " 'LEU84': [-91.36521793032486, -13.937264296885225],\n",
              " 'LEU91': [-91.14874463673257, -30.49580553626442],\n",
              " 'LEU95': [-131.8838752877206, 147.0593185187218],\n",
              " 'LYS170': [-105.44451376482638, -19.545973037337063],\n",
              " 'LYS185': [-58.60532643812573, -25.597090771385872],\n",
              " 'LYS206': [-89.59863718920207, 124.95790850799732],\n",
              " 'LYS232': [-87.34208734907946, 118.34072753998264],\n",
              " 'LYS262': [-105.64909699447357, 126.00254191928856],\n",
              " 'LYS75': [-49.59745509551421, -39.33856311450692],\n",
              " 'MET245': [-133.78287916998536, 123.51735731655657],\n",
              " 'PHE120': [-122.8024917479729, 123.71431870190627],\n",
              " 'PHE128': [-87.18663375102811, 131.49494948340663],\n",
              " 'PHE149': [-136.95276265428376, 123.35114078209831],\n",
              " 'PHE164': [-121.80087789216712, 140.31911884707196],\n",
              " 'PHE215': [-118.31750982750407, 113.33976019120307],\n",
              " 'PHE221': [-130.04570286285295, 151.9867088076768],\n",
              " 'PHE225': [63.65080535963811, 33.87548526838959],\n",
              " 'PHE241': [-130.3420418281837, 125.33377659549109],\n",
              " 'PHE242': [-132.60048825831254, 148.28042536990148],\n",
              " 'PHE71': [-140.3821323932118, 109.14789108687363],\n",
              " 'PHE80': [-89.83265972440824, 118.28867435762902],\n",
              " 'PRO118': [-71.10962035778529, 169.34152190302532],\n",
              " 'PRO139': [-67.35073531478731, -10.965194435249867],\n",
              " 'PRO162': [-71.2946914599182, 149.1333584469172],\n",
              " 'PRO199': [-57.43168641373999, -42.20591245682193],\n",
              " 'PRO233': [-72.75435101657324, 158.59703905381468],\n",
              " 'PRO34': [-70.7505295863961, 151.66692561393566],\n",
              " 'PRO41': [-76.98428633291427, 173.08293909134164],\n",
              " 'PRO58': [-62.15055950588084, 145.46970520360543],\n",
              " 'PRO76': [-71.1527777151391, -10.728033870666517],\n",
              " 'SER107': [-86.70648827023743, -40.439782768500265],\n",
              " 'SER115': [-92.08699910935192, -166.53695622714864],\n",
              " 'SER119': [-112.44874321792268, 140.99188938975064],\n",
              " 'SER137': [-110.86830940851969, 131.21869069619757],\n",
              " 'SER153': [-77.03819291121131, -29.28708282045182],\n",
              " 'SER155': [-125.9737021576296, 132.8237275778703],\n",
              " 'SER156': [-129.45947070335643, 129.51594525853537],\n",
              " 'SER173': [-134.44479968322037, 130.00125063042566],\n",
              " 'SER182': [-101.11982748506534, 136.82252313307137],\n",
              " 'SER203': [-115.2140985537395, 132.55484602401427],\n",
              " 'SER213': [-120.28020854274675, 121.90730094920914],\n",
              " 'SER222': [-76.4035965201334, 176.1824309996734],\n",
              " 'SER229': [-163.0500059090572, 158.2653508582724],\n",
              " 'SER230': [-142.90945417610064, 137.84468483553658],\n",
              " 'SER235': [-134.26125805920123, 169.95195571554333],\n",
              " 'SER239': [-107.90846919907304, 151.82148212341087],\n",
              " 'SER244': [-160.7896294734979, 162.68548925311782],\n",
              " 'SER247': [-158.54467508102525, 163.93466402096766],\n",
              " 'SER259': [-130.61906199344875, 163.0545732687535],\n",
              " 'SER44': [-142.94954111864396, 163.89991250733075],\n",
              " 'SER64': [-91.14533850741257, 107.30758957865294],\n",
              " 'SER89': [-87.67688746683223, 151.94580587890212],\n",
              " 'SER99': [-72.68597676236914, -8.761819453690011],\n",
              " 'THR143': [-118.20086691016085, 128.55289305301918],\n",
              " 'THR152': [-107.47693469213144, 132.6724081425725],\n",
              " 'THR174': [-109.63231405448553, 18.065701190289236],\n",
              " 'THR178': [-119.79530071833076, 11.04795713934887],\n",
              " 'THR190': [-152.61032366296467, 152.93487096347732],\n",
              " 'THR191': [-84.28126848710087, -17.374690924182122],\n",
              " 'THR208': [-119.56903948003385, 125.55234876166612],\n",
              " 'THR216': [-121.56236380282073, 168.63427251212048],\n",
              " 'THR220': [-108.21126993359711, 148.71578785610856],\n",
              " 'THR255': [-90.78932922534551, 2.433702383355923],\n",
              " 'THR50': [-66.66823009674243, 128.67431521944366],\n",
              " 'THR57': [-54.51227159904112, 131.940305536166],\n",
              " 'TYR172': [-147.14457356920434, 155.61566500569634],\n",
              " 'TYR240': [-130.0154703256015, 134.30177734564856],\n",
              " 'TYR68': [-136.44942600458023, 142.02793055326316],\n",
              " 'VAL113': [-83.77930784015624, 121.3253036177477],\n",
              " 'VAL114': [-102.76604704297107, -5.6514150737424735],\n",
              " 'VAL127': [-85.69887187358323, 110.57508627709288],\n",
              " 'VAL135': [-133.63359253836055, 133.22766216458592],\n",
              " 'VAL158': [-121.9648135339151, 111.77902045733326],\n",
              " 'VAL159': [-87.25999732988406, 83.6355691137619],\n",
              " 'VAL234': [-62.21242740222128, -39.62230355523743],\n",
              " 'VAL261': [-115.07651524891298, 114.67010117751461],\n",
              " 'VAL33': [-125.45577308576351, 108.77581383079774],\n",
              " 'VAL43': [-126.44702439461578, 132.90271084163126],\n",
              " 'VAL46': [-120.06669214716824, 143.26381306072625],\n",
              " 'VAL52': [-117.57634791331917, 125.09478732338664],\n",
              " 'VAL56': [-70.89590347791288, 161.6987136424818],\n",
              " 'VAL73': [-118.32215634094423, 129.28478870721509],\n",
              " 'VAL79': [-125.42789761402526, 128.27310912066977]}"
            ]
          },
          "metadata": {},
          "execution_count": 33
        }
      ]
    },
    {
      "cell_type": "markdown",
      "source": [
        "**Exercise 3: Ramchandran Plot**"
      ],
      "metadata": {
        "id": "SnML5dnBURNn"
      }
    },
    {
      "cell_type": "code",
      "source": [
        "# store phi and psi angles in x and y lists\n",
        "x,y, ignored = [], [], []\n",
        "for key, value in phi_psi_dic.items():\n",
        "  if value[0] == 'NA' or value[1] == 'NA':\n",
        "    ignored.append((key, value))\n",
        "  else:\n",
        "    x.append(value[0])\n",
        "    y.append(value[1])    "
      ],
      "metadata": {
        "id": "5HayOlhBe6Xn"
      },
      "execution_count": null,
      "outputs": []
    },
    {
      "cell_type": "code",
      "source": [
        "#ignored residues\n",
        "ignored"
      ],
      "metadata": {
        "colab": {
          "base_uri": "https://localhost:8080/"
        },
        "id": "0B0QivOD19H9",
        "outputId": "21233f34-9c9e-402f-eb67-ce810d6d472e"
      },
      "execution_count": null,
      "outputs": [
        {
          "output_type": "execute_result",
          "data": {
            "text/plain": [
              "[('ASN30', ['NA', 8.315527720452243]), ('HIS271', [-88.48264197288769, 'NA'])]"
            ]
          },
          "metadata": {},
          "execution_count": 35
        }
      ]
    },
    {
      "cell_type": "code",
      "source": [
        "import matplotlib.pyplot as plt\n",
        "x = np.array(x)\n",
        "y = np.array(y)"
      ],
      "metadata": {
        "id": "pFW4_VyVjt1M"
      },
      "execution_count": null,
      "outputs": []
    },
    {
      "cell_type": "code",
      "source": [
        "plt.figure(figsize = [5.5, 5], dpi = 100)\n",
        "ax = plt.subplot(111)\n",
        "ax.set_title(\"Ramchandran Plot\")\n",
        "\n",
        "\n",
        "ax.set_aspect('equal')\n",
        "ax.set_xlabel('\\u03C6')\n",
        "ax.set_ylabel('\\u03C8')\n",
        "ax.set_xlim(-180, 180)\n",
        "ax.set_ylim(-180, 180)\n",
        "ax.set_xticks([-180, -135, -90, -45, 0, 45, 90, 135, 180], minor=False)\n",
        "ax.set_yticks([-180, -135, -90, -45, 0, 45, 90, 135, 180], minor=False)\n",
        "plt.axhline(y=0, color='k', lw=0.5)\n",
        "plt.axvline(x=0, color='k', lw=0.5)\n",
        "plt.grid(b=None, which='major', axis='both', color='k')\n",
        "\n",
        "\n",
        "ax.scatter(x, y, marker = '.')\n",
        "\n",
        "plt.savefig('ramplot', format = 'pdf')\n",
        "plt.show()"
      ],
      "metadata": {
        "colab": {
          "base_uri": "https://localhost:8080/",
          "height": 480
        },
        "id": "GEDjgE3Khb_c",
        "outputId": "3e5f363c-1ea4-4328-bab0-31ac25a80d55"
      },
      "execution_count": null,
      "outputs": [
        {
          "output_type": "display_data",
          "data": {
            "text/plain": [
              "<Figure size 550x500 with 1 Axes>"
            ],
            "image/png": "[encoded data removed]"
          },
          "metadata": {
            "needs_background": "light"
          }
        }
      ]
    },
    {
      "cell_type": "markdown",
      "source": [
        "# Ramchandran plot using inbuilt functions RamchanDraw to compare with the plot generated by me\n",
        "\n",
        "Each data point in the above plot represents combination of phi and psi angles occurs in a single amino acid. alpha-helical structure lies in the lower middle quadrant and beta-sheet lies in the upper left quadrant. The cluster of data represented in the bottom of the lower quadrant are turns. "
      ],
      "metadata": {
        "id": "7EkS6yD0Nvc4"
      }
    },
    {
      "cell_type": "code",
      "source": [
        "\n",
        "from RamachanDraw import fetch, phi_psi, plot"
      ],
      "metadata": {
        "id": "MeIm3ogHZ4nt"
      },
      "execution_count": null,
      "outputs": []
    },
    {
      "cell_type": "code",
      "source": [
        "PDB_id = '5IUQ'\n",
        "\n",
        "plot(fetch(PDB_id))"
      ],
      "metadata": {
        "colab": {
          "base_uri": "https://localhost:8080/",
          "height": 498
        },
        "id": "YEESNHofdoek",
        "outputId": "bf704062-eed3-43a7-aaa1-edec358c2a61"
      },
      "execution_count": null,
      "outputs": [
        {
          "output_type": "stream",
          "name": "stdout",
          "text": [
            "Downloading PDB structure '5IUQ'...\n"
          ]
        },
        {
          "output_type": "display_data",
          "data": {
            "text/plain": [
              "<Figure size 550x500 with 1 Axes>"
            ],
            "image/png": "[encoded data removed]"
          },
          "metadata": {
            "needs_background": "light"
          }
        }
      ]
    },
    {
      "cell_type": "code",
      "source": [
        "phi_psi_dict, ignored_res = phi_psi(fetch(PDB_id), return_ignored=True)"
      ],
      "metadata": {
        "colab": {
          "base_uri": "https://localhost:8080/",
          "height": 167
        },
        "id": "xycDEoGad_VS",
        "outputId": "ecc6d015-6503-4a35-af81-61f6bcf71648"
      },
      "execution_count": null,
      "outputs": [
        {
          "output_type": "stream",
          "name": "stdout",
          "text": [
            "Structure exists: 'PDB/pdb5iuq.ent' \n"
          ]
        },
        {
          "output_type": "display_data",
          "data": {
            "text/plain": [
              "\u001b[3m             Ignored residues              \u001b[0m\n",
              "┏━━━━━━━━━━━┳━━━━━━━━━━━━━━━━━━━━━━━━━━━━━┓\n",
              "┃\u001b[1m \u001b[0m\u001b[1mAminoacid\u001b[0m\u001b[1m \u001b[0m┃\u001b[1m \u001b[0m\u001b[1m            φ-ψ            \u001b[0m\u001b[1m \u001b[0m┃\n",
              "┃\u001b[1m \u001b[0m\u001b[1mresidue  \u001b[0m\u001b[1m \u001b[0m┃\u001b[1m \u001b[0m\u001b[1m          angles           \u001b[0m\u001b[1m \u001b[0m┃\n",
              "┡━━━━━━━━━━━╇━━━━━━━━━━━━━━━━━━━━━━━━━━━━━┩\n",
              "│\u001b[31m \u001b[0m\u001b[31mPRO113   \u001b[0m\u001b[31m \u001b[0m│  (None, 2.764489288852719)  │\n",
              "│\u001b[31m \u001b[0m\u001b[31mILE250   \u001b[0m\u001b[31m \u001b[0m│ (-1.9164696019458334, None) │\n",
              "└───────────┴─────────────────────────────┘\n"
            ],
            "text/html": [
              "<pre style=\"white-space:pre;overflow-x:auto;line-height:normal;font-family:Menlo,'DejaVu Sans Mono',consolas,'Courier New',monospace\"><span style=\"font-style: italic\">             Ignored residues              </span>\n",
              "┏━━━━━━━━━━━┳━━━━━━━━━━━━━━━━━━━━━━━━━━━━━┓\n",
              "┃<span style=\"font-weight: bold\"> Aminoacid </span>┃<span style=\"font-weight: bold\">             φ-ψ             </span>┃\n",
              "┃<span style=\"font-weight: bold\"> residue   </span>┃<span style=\"font-weight: bold\">           angles            </span>┃\n",
              "┡━━━━━━━━━━━╇━━━━━━━━━━━━━━━━━━━━━━━━━━━━━┩\n",
              "│<span style=\"color: #800000; text-decoration-color: #800000\"> PRO113    </span>│  (None, 2.764489288852719)  │\n",
              "│<span style=\"color: #800000; text-decoration-color: #800000\"> ILE250    </span>│ (-1.9164696019458334, None) │\n",
              "└───────────┴─────────────────────────────┘\n",
              "</pre>\n"
            ]
          },
          "metadata": {}
        }
      ]
    },
    {
      "cell_type": "code",
      "source": [
        "angles = phi_psi(fetch(PDB_id), return_ignored=True)"
      ],
      "metadata": {
        "colab": {
          "base_uri": "https://localhost:8080/",
          "height": 167
        },
        "id": "CAnLKiaZeHJL",
        "outputId": "f69c91cb-3c19-4fbc-d174-5031791f3889"
      },
      "execution_count": null,
      "outputs": [
        {
          "output_type": "stream",
          "name": "stdout",
          "text": [
            "Structure exists: 'PDB/pdb5iuq.ent' \n"
          ]
        },
        {
          "output_type": "display_data",
          "data": {
            "text/plain": [
              "\u001b[3m             Ignored residues              \u001b[0m\n",
              "┏━━━━━━━━━━━┳━━━━━━━━━━━━━━━━━━━━━━━━━━━━━┓\n",
              "┃\u001b[1m \u001b[0m\u001b[1mAminoacid\u001b[0m\u001b[1m \u001b[0m┃\u001b[1m \u001b[0m\u001b[1m            φ-ψ            \u001b[0m\u001b[1m \u001b[0m┃\n",
              "┃\u001b[1m \u001b[0m\u001b[1mresidue  \u001b[0m\u001b[1m \u001b[0m┃\u001b[1m \u001b[0m\u001b[1m          angles           \u001b[0m\u001b[1m \u001b[0m┃\n",
              "┡━━━━━━━━━━━╇━━━━━━━━━━━━━━━━━━━━━━━━━━━━━┩\n",
              "│\u001b[31m \u001b[0m\u001b[31mPRO113   \u001b[0m\u001b[31m \u001b[0m│  (None, 2.764489288852719)  │\n",
              "│\u001b[31m \u001b[0m\u001b[31mILE250   \u001b[0m\u001b[31m \u001b[0m│ (-1.9164696019458334, None) │\n",
              "└───────────┴─────────────────────────────┘\n"
            ],
            "text/html": [
              "<pre style=\"white-space:pre;overflow-x:auto;line-height:normal;font-family:Menlo,'DejaVu Sans Mono',consolas,'Courier New',monospace\"><span style=\"font-style: italic\">             Ignored residues              </span>\n",
              "┏━━━━━━━━━━━┳━━━━━━━━━━━━━━━━━━━━━━━━━━━━━┓\n",
              "┃<span style=\"font-weight: bold\"> Aminoacid </span>┃<span style=\"font-weight: bold\">             φ-ψ             </span>┃\n",
              "┃<span style=\"font-weight: bold\"> residue   </span>┃<span style=\"font-weight: bold\">           angles            </span>┃\n",
              "┡━━━━━━━━━━━╇━━━━━━━━━━━━━━━━━━━━━━━━━━━━━┩\n",
              "│<span style=\"color: #800000; text-decoration-color: #800000\"> PRO113    </span>│  (None, 2.764489288852719)  │\n",
              "│<span style=\"color: #800000; text-decoration-color: #800000\"> ILE250    </span>│ (-1.9164696019458334, None) │\n",
              "└───────────┴─────────────────────────────┘\n",
              "</pre>\n"
            ]
          },
          "metadata": {}
        }
      ]
    }
  ]
}